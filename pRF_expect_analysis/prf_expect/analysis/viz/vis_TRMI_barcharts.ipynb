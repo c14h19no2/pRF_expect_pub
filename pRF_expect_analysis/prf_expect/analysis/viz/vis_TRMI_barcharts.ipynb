{
 "cells": [
  {
   "cell_type": "code",
   "execution_count": 1,
   "metadata": {},
   "outputs": [],
   "source": [
    "import json\n",
    "import os\n",
    "import re\n",
    "import glob\n",
    "import time\n",
    "import numpy as np\n",
    "import pandas as pd\n",
    "from scipy.stats import sem\n",
    "import scipy.stats as stats\n",
    "import matplotlib.pyplot as plt\n",
    "from mpl_toolkits.mplot3d import Axes3D\n",
    "from pathlib import Path\n",
    "import cortex as cx\n",
    "import seaborn as sns\n",
    "from scipy.stats import ttest_rel, ttest_ind\n",
    "from sklearn.linear_model import LinearRegression\n",
    "from prf_expect.utils import io\n",
    "from prf_expect.utils.fit import PRFModel, Parameters, fwhmax_fwatmin\n",
    "from prf_expect.utils.beh import calculate_visual_angle\n",
    "from prf_expect.utils.viz import desaturate_palette, sample_cmap, cm_to_inch\n",
    "from matplotlib.colors import LightSource\n",
    "from scipy.stats import t\n",
    "from matplotlib import rc\n",
    "from matplotlib import font_manager"
   ]
  },
  {
   "cell_type": "code",
   "execution_count": 2,
   "metadata": {},
   "outputs": [],
   "source": [
    "glm_analysis_type = \"TRMI-type3\"\n",
    "save_figs = True\n",
    "comb_ROIs = False"
   ]
  },
  {
   "cell_type": "code",
   "execution_count": 3,
   "metadata": {},
   "outputs": [],
   "source": [
    "cwd = os.getcwd()\n",
    "analysis_result_dir = Path(cwd).parent / \"data\""
   ]
  },
  {
   "cell_type": "code",
   "execution_count": 4,
   "metadata": {},
   "outputs": [],
   "source": [
    "font_dirs = [Path(cwd).parent.parent / \"arial\"]\n",
    "font_files = font_manager.findSystemFonts(fontpaths=font_dirs)\n",
    "for font_file in font_files:\n",
    "    font_manager.fontManager.addfont(font_file)\n",
    "\n",
    "rc('pdf', fonttype=42, use14corefonts=False)\n",
    "rc('axes', linewidth=0.5)\n",
    "rc('font',**{'family':'Arial'})\n",
    "rc('text', usetex=False)\n",
    "rc('xtick', labelsize=6)\n",
    "rc('ytick', labelsize=6)\n",
    "rc('axes', labelsize=7)\n",
    "rc('legend', fontsize=6)\n",
    "\n",
    "plt.rcParams['xtick.major.width'] = 0.5\n",
    "plt.rcParams['ytick.major.width'] = 0.5\n",
    "plt.rcParams['xtick.major.size'] = 2\n",
    "plt.rcParams['ytick.major.size'] = 2\n",
    "plt.rcParams['xtick.minor.width'] = 0.5\n",
    "plt.rcParams['ytick.minor.width'] = 0.5\n",
    "plt.rcParams['xtick.minor.size'] = 1\n",
    "plt.rcParams['ytick.minor.size'] = 1\n",
    "\n",
    "# set up figure parameters\n",
    "markeredgecolor = \".4\"\n",
    "bar_linewidth = 0.5\n",
    "bar_alpha = 0.7\n",
    "xticks_rotation = 45\n",
    "marker = \"s\"\n",
    "marker_edge_width = 0.5\n",
    "markersize = 3/2.54\n",
    "errorbar_linewidth = 0.5\n",
    "errorbar_capsize = 2/2.54\n",
    "errorbar_capthick = 0.5"
   ]
  },
  {
   "cell_type": "code",
   "execution_count": 5,
   "metadata": {},
   "outputs": [
    {
     "name": "stdout",
     "output_type": "stream",
     "text": [
      "Loading settings from /Users/dionysus/Library/CloudStorage/OneDrive-Personal/Workbench/pRF_expect_pub/pRF_expect_analysis/prf_expect/settings.yml\n"
     ]
    }
   ],
   "source": [
    "settings = io.load_settings()"
   ]
  },
  {
   "cell_type": "code",
   "execution_count": 6,
   "metadata": {},
   "outputs": [
    {
     "name": "stdout",
     "output_type": "stream",
     "text": [
      "Half visual angle: 5.723617240476087\n"
     ]
    }
   ],
   "source": [
    "subjects = settings[\"general\"][\"subject_list\"]\n",
    "dummy_scans = settings[\"mri\"][\"dummy_scans\"]\n",
    "space = settings[\"mri\"][\"space\"]\n",
    "project_dir = os.path.join(settings[\"general\"][\"data_dir\"], \"data\")\n",
    "runs = [\"01\", \"02\", \"03\"]\n",
    "half_vis_angle = calculate_visual_angle(settings[\"monitor\"][\"screen_size_cm\"][1], \n",
    "                                        settings[\"monitor\"][\"screen_distance_cm\"]) / 2\n",
    "r2_thre = 0.1\n",
    "print(f\"Half visual angle: {half_vis_angle}\")"
   ]
  },
  {
   "cell_type": "code",
   "execution_count": 7,
   "metadata": {},
   "outputs": [],
   "source": [
    "# set half_vis_angle to a smaller value to avoid edge effects\n",
    "half_vis_angle = 5"
   ]
  },
  {
   "cell_type": "code",
   "execution_count": 8,
   "metadata": {},
   "outputs": [],
   "source": [
    "ROIs_list_long = ('V1', 'V2', 'V3', 'V3A', 'V3B', 'V4', 'LO1', 'LO2', 'VO1', \n",
    "        'VO2', 'hMT', 'MST', 'IPS0', 'IPS1', 'IPS2', 'IPS3', 'IPS4', 'IPS5')\n",
    "ROIs_list_short = [\"V1\", \"V2\", \"V3\", \"V3AB\", \"hV4\", \"LO\", \"TO\", \"VO\", \"IPS\"]\n",
    "roi_verts = cx.get_roi_verts('fsaverage', ROIs_list_long)\n",
    "V1 = roi_verts['V1']\n",
    "vis_verts = np.array([], dtype=int)\n",
    "for roi in roi_verts:\n",
    "    vis_verts = np.concatenate((vis_verts, roi_verts[roi]))"
   ]
  },
  {
   "cell_type": "code",
   "execution_count": 9,
   "metadata": {},
   "outputs": [],
   "source": [
    "# norm subject number to [0,1]\n",
    "def norm_subjects(subj):\n",
    "    subj = np.array(subj)\n",
    "    return (subj - min(subj)) / (max(subj) - min(subj))\n",
    "\n",
    "norm_subID = norm_subjects(list(range(0, len(subjects) + 1)))"
   ]
  },
  {
   "cell_type": "code",
   "execution_count": 10,
   "metadata": {},
   "outputs": [],
   "source": [
    "combined_roi_verts = {}\n",
    "combined_roi_verts[\"V1\"] = roi_verts[\"V1\"]\n",
    "combined_roi_verts[\"V2\"] = roi_verts[\"V2\"]\n",
    "combined_roi_verts[\"V3\"] = roi_verts[\"V3\"]\n",
    "combined_roi_verts[\"V3AB\"] = np.concatenate((roi_verts[\"V3A\"], roi_verts[\"V3B\"]))\n",
    "combined_roi_verts[\"hV4\"] = roi_verts[\"V4\"]\n",
    "combined_roi_verts[\"LO\"] = np.concatenate((roi_verts[\"LO1\"], roi_verts[\"LO2\"]))\n",
    "combined_roi_verts[\"TO\"] = np.concatenate((roi_verts[\"hMT\"], roi_verts[\"MST\"]))\n",
    "combined_roi_verts[\"VO\"] = np.concatenate((roi_verts[\"VO1\"], roi_verts[\"VO2\"]))\n",
    "combined_roi_verts[\"IPS\"] = np.concatenate((roi_verts[\"IPS0\"], \n",
    "                                            roi_verts[\"IPS1\"], \n",
    "                                            roi_verts[\"IPS2\"], \n",
    "                                            roi_verts[\"IPS3\"], \n",
    "                                            roi_verts[\"IPS4\"], \n",
    "                                            roi_verts[\"IPS5\"]))\n",
    "if comb_ROIs == True:\n",
    "    rois = combined_roi_verts\n",
    "else:\n",
    "    rois = roi_verts\n",
    "\n",
    "ROIs_list = list(rois.keys())"
   ]
  },
  {
   "cell_type": "code",
   "execution_count": 11,
   "metadata": {},
   "outputs": [],
   "source": [
    "# Define paths and data exp parameters\n",
    "data_dir = Path(settings['general']['data_dir'], \"data\")\n",
    "tasks = settings[\"design\"][\"tasks\"]\n",
    "space = settings[\"mri\"][\"space\"]"
   ]
  },
  {
   "cell_type": "markdown",
   "metadata": {},
   "source": [
    "## Load pRF results"
   ]
  },
  {
   "cell_type": "code",
   "execution_count": 12,
   "metadata": {},
   "outputs": [],
   "source": [
    "# calculate IQR\n",
    "def iqr(data):\n",
    "    return np.nanpercentile(data, 75) - np.nanpercentile(data, 25)"
   ]
  },
  {
   "cell_type": "code",
   "execution_count": 13,
   "metadata": {},
   "outputs": [
    {
     "name": "stderr",
     "output_type": "stream",
     "text": [
      "/var/folders/1x/nhszthp519l9hrq_yddm9yhr0000gn/T/ipykernel_57051/3621157610.py:180: RuntimeWarning: Mean of empty slice\n",
      "  avg_rsq = np.nanmean(rsq_list, axis=0)\n",
      "/var/folders/1x/nhszthp519l9hrq_yddm9yhr0000gn/T/ipykernel_57051/3621157610.py:182: RuntimeWarning: Mean of empty slice\n",
      "  avg_rsq_2 = np.nanmean(rsq_list_2, axis=0)\n"
     ]
    }
   ],
   "source": [
    "rsq_list = []\n",
    "rsq_list_2 = []\n",
    "b_list = []\n",
    "d_list = []\n",
    "x_list = []\n",
    "y_list = []\n",
    "pa_list = []\n",
    "ecc_list = []\n",
    "prf_size_list = []\n",
    "prf_hwhm_list = []\n",
    "size_ratio_list = []\n",
    "TRMI_list = []\n",
    "viol_beta_spardm_list = []\n",
    "viol_beta_omitdm_list = []\n",
    "rsq_nanmask_list = []\n",
    "viol_tstat_list = []\n",
    "\n",
    "for subject in subjects:\n",
    "    tsv_name = Path.joinpath(data_dir, \n",
    "                            \"derivatives\", \n",
    "                            \"prf_data\", \n",
    "                            subject, \n",
    "                            \"ses-1\", \n",
    "                            \"prf_fits\", \n",
    "                            \"prf_params\", \n",
    "                            f\"{subject}_ses-1_final-fit_space-{space}_model-norm_stage-iter_desc-prf_params.tsv\")\n",
    "    TRMI_npy_name = Path.joinpath(data_dir,\n",
    "                            \"derivatives\",\n",
    "                            \"prf_data\",\n",
    "                            subject,\n",
    "                            \"ses-1\",\n",
    "                            glm_analysis_type,\n",
    "                            f\"{subject}_ses-1_space-{space}_surprise-TRMI.npy\")\n",
    "    viol_rsq = Path.joinpath(data_dir,\n",
    "                            \"derivatives\",\n",
    "                            \"prf_data\",\n",
    "                            subject,\n",
    "                            \"ses-1\",\n",
    "                            glm_analysis_type,\n",
    "                            f\"{subject}_ses-1_space-{space}_surprise-viol_rsq.npy\")\n",
    "    viol_beta_spardm = Path.joinpath(data_dir,\n",
    "                            \"derivatives\",\n",
    "                            \"prf_data\",\n",
    "                            subject,\n",
    "                            \"ses-1\",\n",
    "                            glm_analysis_type,\n",
    "                            f\"{subject}_ses-1_space-{space}_surprise-viol_beta_sparsedm.npy\")\n",
    "    viol_beta_omitdm = Path.joinpath(data_dir,\n",
    "                            \"derivatives\",\n",
    "                            \"prf_data\",\n",
    "                            subject,\n",
    "                            \"ses-1\",\n",
    "                            glm_analysis_type,\n",
    "                            f\"{subject}_ses-1_space-{space}_surprise-viol_beta_omitdm.npy\")\n",
    "    viol_tstat_npy_name = Path.joinpath(data_dir,\n",
    "                            \"derivatives\",\n",
    "                            \"prf_data\",\n",
    "                            subject,\n",
    "                            \"ses-1\",\n",
    "                            glm_analysis_type,\n",
    "                            f\"{subject}_ses-1_space-{space}_surprise-viol_t_contrast.npy\")\n",
    "    data = pd.read_csv( \n",
    "            tsv_name,\n",
    "            sep=\"\\t\",\n",
    "            header=0,\n",
    "        )\n",
    "    mask = data[\"r2\"] >= r2_thre\n",
    "    mask_broadcasted = np.tile(mask, (data.shape[1], 1)).T\n",
    "    params = data.where(mask_broadcasted)\n",
    "    params_np = params.to_numpy()\n",
    "    b = params[\"B\"]\n",
    "    d = params[\"D\"]\n",
    "    verts_nr = params[\"r2\"].shape[0]\n",
    "    \n",
    "    sub_vis_rsq = np.zeros(verts_nr)\n",
    "    sub_vis_rsq[:] = np.nan\n",
    "    sub_vis_rsq = params[\"r2\"]\n",
    "\n",
    "    sub_vis_x = np.zeros(verts_nr)\n",
    "    sub_vis_x[:] = np.nan\n",
    "    sub_vis_x = params[\"x\"]\n",
    "\n",
    "    sub_vis_y = np.zeros(verts_nr)\n",
    "    sub_vis_y[:] = np.nan\n",
    "    sub_vis_y = params[\"y\"]\n",
    "    \n",
    "    sub_vis_pa = np.zeros(verts_nr)\n",
    "    sub_vis_pa[:] = np.nan\n",
    "    sub_vis_pa = params[\"polar\"]\n",
    "\n",
    "    sub_vis_ecc = np.zeros(verts_nr)\n",
    "    sub_vis_ecc[:] = np.nan\n",
    "    sub_vis_ecc = params[\"ecc\"]\n",
    "\n",
    "    sub_vis_prf_ampl = np.zeros(verts_nr)\n",
    "    sub_vis_prf_ampl[:] = np.nan\n",
    "    sub_vis_prf_ampl = params[\"prf_ampl\"]\n",
    "\n",
    "    sub_vis_prf_size = np.zeros(verts_nr)\n",
    "    sub_vis_prf_size[:] = np.nan\n",
    "    sub_vis_prf_size = params[\"prf_size\"]\n",
    "\n",
    "    sub_vis_prf_hwhm = np.zeros(verts_nr)\n",
    "    sub_vis_prf_hwhm[:] = np.nan\n",
    "    sub_vis_prf_hwhm, _ = fwhmax_fwatmin(\"norm\", params_np, normalize_RFs=False)\n",
    "\n",
    "    sub_vis_size_ratio = np.zeros(verts_nr)\n",
    "    sub_vis_size_ratio[:] = np.nan\n",
    "    sub_vis_size_ratio = params[\"size ratio\"]\n",
    "\n",
    "    sub_vis_TRMI = np.load(TRMI_npy_name)\n",
    "    sub_vis_viol_rsq = np.load(viol_rsq)\n",
    "    sub_vis_viol_tstat = np.load(viol_tstat_npy_name)\n",
    "\n",
    "    sub_vis_viol_beta_sparsedm = np.load(viol_beta_spardm)\n",
    "    sub_vis_viol_beta_omitdm = np.load(viol_beta_omitdm)\n",
    "\n",
    "    sub_vis_rsq[sub_vis_ecc>half_vis_angle] = np.nan\n",
    "    sub_vis_rsq[sub_vis_prf_ampl<0.0] = np.nan\n",
    "    sub_vis_rsq[sub_vis_rsq<0.0] = np.nan\n",
    "    \n",
    "    sub_vis_rsq_2 = sub_vis_rsq.copy()\n",
    "    sub_vis_rsq_2[sub_vis_viol_rsq<0.0] = np.nan\n",
    "\n",
    "\n",
    "    sub_vis_b = np.nan_to_num(b.values, copy=True, nan=0.0)\n",
    "    sub_vis_d = np.nan_to_num(d.values, copy=True, nan=0.0)\n",
    "    sub_vis_x = np.nan_to_num(sub_vis_x, copy=True, nan=0.0)\n",
    "    sub_vis_y = np.nan_to_num(sub_vis_y, copy=True, nan=0.0)\n",
    "    sub_vis_pa = np.nan_to_num(sub_vis_pa, copy=True, nan=0.0)\n",
    "    sub_vis_prf_size = np.nan_to_num(sub_vis_prf_size, copy=True, nan=0.0)\n",
    "    sub_vis_prf_hwhm = np.nan_to_num(sub_vis_prf_hwhm, copy=True, nan=0.0)\n",
    "    sub_vis_size_ratio = np.nan_to_num(sub_vis_size_ratio, copy=True, nan=0.0)\n",
    "    sub_vis_ecc = np.nan_to_num(sub_vis_ecc, copy=True, nan=0.0)\n",
    "    \n",
    "    iqr_TRMI = iqr(sub_vis_TRMI)\n",
    "    sub_vis_TRMI[sub_vis_ecc>half_vis_angle] = 0\n",
    "    sub_vis_TRMI[sub_vis_prf_ampl<0.0] = 0\n",
    "    sub_vis_TRMI[sub_vis_rsq<0.0] = 0\n",
    "    sub_vis_TRMI_masked = sub_vis_TRMI.copy()\n",
    "    sub_vis_TRMI_masked[sub_vis_TRMI>(np.nanmedian(sub_vis_TRMI) + 2 * iqr_TRMI)] = 0\n",
    "    sub_vis_TRMI_masked[sub_vis_TRMI<(np.nanmedian(sub_vis_TRMI) - 2 * iqr_TRMI)] = 0\n",
    "    sub_vis_TRMI_masked = np.nan_to_num(sub_vis_TRMI_masked, copy=True, nan=0.0)\n",
    "    viz_data_rsq_nanmask = ~np.isnan(sub_vis_rsq)\n",
    "\n",
    "    iqr_vis_viol_tstat = iqr(sub_vis_viol_tstat)\n",
    "    sub_vis_viol_tstat[sub_vis_viol_tstat>(np.nanmedian(sub_vis_viol_tstat) + 2 * iqr_vis_viol_tstat)] = 0\n",
    "    sub_vis_viol_tstat[sub_vis_ecc>half_vis_angle] = 0\n",
    "    sub_vis_viol_tstat[sub_vis_prf_ampl<0.0] = 0\n",
    "    sub_vis_viol_tstat[sub_vis_rsq<0.0] = 0\n",
    "    sub_vis_viol_tstat_masked = sub_vis_viol_tstat.copy()\n",
    "    sub_vis_viol_tstat_masked[sub_vis_viol_tstat>(np.nanmedian(sub_vis_viol_tstat) + 2 * iqr_vis_viol_tstat)] = 0\n",
    "    sub_vis_viol_tstat_masked[sub_vis_viol_tstat<(np.nanmedian(sub_vis_viol_tstat) - 2 * iqr_vis_viol_tstat)] = 0\n",
    "    sub_vis_viol_tstat_masked = np.nan_to_num(sub_vis_viol_tstat_masked, copy=True, nan=0.0)\n",
    "    \n",
    "    \n",
    "    rsq_list.append(sub_vis_rsq)\n",
    "    rsq_list_2.append(sub_vis_rsq_2)\n",
    "    b_list.append(sub_vis_b)\n",
    "    d_list.append(sub_vis_d)\n",
    "    x_list.append(sub_vis_x)\n",
    "    y_list.append(sub_vis_y)\n",
    "    pa_list.append(sub_vis_pa)\n",
    "    ecc_list.append(sub_vis_ecc)\n",
    "    prf_size_list.append(sub_vis_prf_size)\n",
    "    prf_hwhm_list.append(sub_vis_prf_hwhm)\n",
    "    size_ratio_list.append(sub_vis_size_ratio)\n",
    "\n",
    "    TRMI_list.append(sub_vis_TRMI_masked)\n",
    "    rsq_nanmask_list.append(viz_data_rsq_nanmask)\n",
    "    viol_tstat_list.append(sub_vis_viol_tstat_masked)\n",
    "    viol_beta_spardm_list.append(sub_vis_viol_beta_sparsedm)\n",
    "    viol_beta_omitdm_list.append(sub_vis_viol_beta_omitdm)\n",
    "\n",
    "rsq_list = np.array(rsq_list)\n",
    "rsq_list_2 = np.array(rsq_list_2)\n",
    "rsq_nanmask_list = np.array(rsq_nanmask_list)\n",
    "\n",
    "avg_nanmask = np.any(rsq_nanmask_list, axis=0)\n",
    "avg_rsq = np.nanmean(rsq_list, axis=0)\n",
    "avg_rsq = np.nan_to_num(avg_rsq, copy=True, nan=0.0)\n",
    "avg_rsq_2 = np.nanmean(rsq_list_2, axis=0)\n",
    "avg_rsq_2 = np.nan_to_num(avg_rsq_2, copy=True, nan=0.0)\n",
    "rsq_list_nonan = np.nan_to_num(rsq_list, copy=True, nan=1e-6)\n",
    "rsq_list_2_nonan = np.nan_to_num(rsq_list_2, copy=True, nan=1e-6)\n",
    "\n",
    "b_list = np.array(b_list)\n",
    "avg_b = np.average(b_list, axis=0, weights=rsq_list_nonan)\n",
    "\n",
    "d_list = np.array(d_list)\n",
    "avg_d = np.average(d_list, axis=0, weights=rsq_list_nonan)\n",
    "\n",
    "x_list = np.array(x_list)\n",
    "avg_x = np.average(x_list, axis=0, weights=rsq_list_nonan)\n",
    "\n",
    "y_list = np.array(y_list)\n",
    "avg_y = np.average(y_list, axis=0, weights=rsq_list_nonan)\n",
    "\n",
    "# calculate polar angle with x and y\n",
    "avg_pa = np.arctan2(avg_y, avg_x)\n",
    "\n",
    "pa_list = np.array(pa_list)\n",
    "\n",
    "ecc_list = np.array(ecc_list)\n",
    "avg_ecc = np.average(ecc_list, axis=0, weights=rsq_list_nonan)\n",
    "\n",
    "prf_size_list = np.array(prf_size_list)\n",
    "avg_prf_size = np.average(prf_size_list, axis=0, weights=rsq_list_nonan)\n",
    "\n",
    "prf_hwhm_list = np.array(prf_hwhm_list)\n",
    "avg_prf_hwhm = np.average(prf_hwhm_list, axis=0, weights=rsq_list_nonan)\n",
    "\n",
    "size_ratio_list = np.array(size_ratio_list)\n",
    "avg_size_ratio = np.average(size_ratio_list, axis=0, weights=rsq_list_nonan)\n",
    "\n",
    "TRMI_list = np.array(TRMI_list)\n",
    "avg_TRMI = np.average(TRMI_list, axis=0, weights=rsq_list_2_nonan)\n",
    "\n",
    "viol_tstat_list = np.array(viol_tstat_list)\n",
    "viol_tstat_list = np.nan_to_num(viol_tstat_list, copy=True, nan=0.0)\n",
    "avg_viol_tstat = np.average(viol_tstat_list, axis=0, weights=rsq_list_2_nonan)\n",
    "\n",
    "viol_beta_spardm_list = np.array(viol_beta_spardm_list)\n",
    "viol_beta_spardm_list = np.nan_to_num(viol_beta_spardm_list, copy=True, nan=0.0)\n",
    "avg_viol_beta_spardm = np.average(viol_beta_spardm_list, axis=0, weights=rsq_list_nonan)\n",
    "\n",
    "viol_beta_omitdm_list = np.array(viol_beta_omitdm_list)\n",
    "viol_beta_omitdm_list = np.nan_to_num(viol_beta_omitdm_list, copy=True, nan=0.0)\n",
    "avg_viol_beta_omitdm = np.average(viol_beta_omitdm_list, axis=0, weights=rsq_list_nonan)\n",
    "\n",
    "avg_b[~avg_nanmask] = np.nan\n",
    "avg_d[~avg_nanmask] = np.nan\n",
    "avg_ecc[~avg_nanmask] = np.nan\n",
    "avg_TRMI[~avg_nanmask] = np.nan\n",
    "avg_viol_tstat[~avg_nanmask] = np.nan"
   ]
  },
  {
   "cell_type": "markdown",
   "metadata": {},
   "source": [
    "## Save results to local"
   ]
  },
  {
   "cell_type": "code",
   "execution_count": 14,
   "metadata": {},
   "outputs": [],
   "source": [
    "figure_result_dir = Path(cwd).parent / \"figures\""
   ]
  },
  {
   "cell_type": "code",
   "execution_count": 15,
   "metadata": {},
   "outputs": [],
   "source": [
    "group_rois_param = pd.DataFrame()\n",
    "\n",
    "for i, subject in enumerate(subjects):\n",
    "    viz_data_rsq_nanmask = ~np.isnan(rsq_list[i, :])\n",
    "    viz_data_rsq_2_nanmask = ~np.isnan(rsq_list_2[i, :])\n",
    "    for param_name, param in zip([\"B\", \"D\", \"prf_size\", \"ecc\", \"TRMI\", \"viol_tstat\"], \n",
    "                                 [b_list, d_list, prf_size_list, ecc_list, TRMI_list, viol_tstat_list]):\n",
    "        sub_rois_param = {}\n",
    "        sub_vis_param = param[i, :]\n",
    "        for roi in rois:\n",
    "            roi_vers = rois[roi]\n",
    "            if param_name == \"TRMI\":\n",
    "                roi_nanmask = viz_data_rsq_2_nanmask[roi_vers]\n",
    "            else:\n",
    "                roi_nanmask = viz_data_rsq_nanmask[roi_vers]\n",
    "            sub_rois_param[roi] = [np.average(sub_vis_param[roi_vers][roi_nanmask], weights=avg_rsq[roi_vers][roi_nanmask]),\n",
    "                                    sem(sub_vis_param[roi_vers][roi_nanmask])]\n",
    "        # convert to pandas\n",
    "        df_sub_rois_param = pd.DataFrame(sub_rois_param).transpose().reset_index()\n",
    "        df_sub_rois_param.columns = [\"ROIs\", \"values\", \"SEM\"]\n",
    "        # add columns with subject name\n",
    "        df_sub_rois_param[\"subjects\"] = subject\n",
    "        df_sub_rois_param[\"param\"] = param_name\n",
    "        group_rois_param = pd.concat([group_rois_param, df_sub_rois_param], axis=0)\n",
    "\n",
    "df_group_rois_param = group_rois_param[[\"subjects\", \"param\", \"ROIs\", \"values\", \"SEM\"]].reset_index(drop=True)"
   ]
  },
  {
   "cell_type": "code",
   "execution_count": 16,
   "metadata": {},
   "outputs": [
    {
     "name": "stdout",
     "output_type": "stream",
     "text": [
      "3.9452920828548805\n"
     ]
    }
   ],
   "source": [
    "sub_vis_param = b_list[0, :]\n",
    "roi_vers = rois[\"V1\"]\n",
    "roi_nanmask = viz_data_rsq_nanmask[roi_vers]\n",
    "sub_vis_param[roi_vers][roi_nanmask]\n",
    "print(np.std(sub_vis_param[roi_vers][roi_nanmask])/np.sqrt(sub_vis_param[roi_vers][roi_nanmask].size))"
   ]
  },
  {
   "cell_type": "code",
   "execution_count": 17,
   "metadata": {},
   "outputs": [
    {
     "data": {
      "text/plain": [
       "np.float64(3.9452920828548805)"
      ]
     },
     "execution_count": 17,
     "metadata": {},
     "output_type": "execute_result"
    }
   ],
   "source": [
    "np.std(sub_vis_param[roi_vers][roi_nanmask]) / np.sqrt(sub_vis_param[roi_vers][roi_nanmask].size)"
   ]
  },
  {
   "cell_type": "code",
   "execution_count": 18,
   "metadata": {},
   "outputs": [],
   "source": [
    "# trans list to df\n",
    "viz_param = pd.DataFrame()\n",
    "for param_name, param in zip([\"B\", \"D\", \"prf_size\", \"TRMI\"], [b_list, d_list, prf_size_list, TRMI_list]):\n",
    "    for i, subject in enumerate(subjects):\n",
    "        viz_data_rsq_nanmask = ~np.isnan(rsq_list[i, :])\n",
    "        viz_data_rsq_2_nanmask = ~np.isnan(rsq_list_2[i, :])\n",
    "        sub_vis_param = param[i, :]\n",
    "        \n",
    "        for roi in rois:\n",
    "            roi_vers = rois[roi]\n",
    "            if param_name == \"TRMI\":\n",
    "                roi_nanmask = viz_data_rsq_2_nanmask[roi_vers]\n",
    "            else:\n",
    "                roi_nanmask = viz_data_rsq_nanmask[roi_vers]\n",
    "            sub_rois_param = sub_vis_param[roi_vers][roi_nanmask]\n",
    "            # convert to pandas\n",
    "            df_sub_rois_param = pd.DataFrame(sub_rois_param)\n",
    "            df_sub_rois_param.columns = [\"values\"]\n",
    "            # add columns with subject name\n",
    "            df_sub_rois_param[\"subjects\"] = subject\n",
    "            df_sub_rois_param[\"param\"] = param_name\n",
    "            df_sub_rois_param[\"ROIs\"] = roi\n",
    "            viz_param = pd.concat([viz_param, df_sub_rois_param], axis=0)"
   ]
  },
  {
   "cell_type": "markdown",
   "metadata": {},
   "source": [
    "## Better bar plots"
   ]
  },
  {
   "cell_type": "code",
   "execution_count": 19,
   "metadata": {},
   "outputs": [],
   "source": [
    "original_gist_rainbow = plt.cm.gist_rainbow  # Original colormap\n",
    "palette_desaturated_gist_rainbow = desaturate_palette(original_gist_rainbow, saturation=1)"
   ]
  },
  {
   "cell_type": "code",
   "execution_count": 20,
   "metadata": {},
   "outputs": [],
   "source": [
    "gist_rainbow_desaturated = desaturate_palette(plt.colormaps.get_cmap(\"gist_rainbow\"), saturation=0.80, lightness=0.9)\n",
    "gist_rainbow_sampled = sample_cmap(gist_rainbow_desaturated, len(ROIs_list))\n",
    "\n",
    "gist_rainbow_desaturated_2 = desaturate_palette(plt.colormaps.get_cmap(\"gist_rainbow\"), saturation=1)\n",
    "gist_rainbow_sampled_2 = sample_cmap(gist_rainbow_desaturated_2, len(ROIs_list))\n",
    "\n",
    "gist_rainbow_desaturated_3 = desaturate_palette(plt.colormaps.get_cmap(\"gist_rainbow\"), saturation=1.0, lightness=0.6)\n",
    "gist_rainbow_sampled_3 = sample_cmap(gist_rainbow_desaturated_3, len(ROIs_list))"
   ]
  },
  {
   "cell_type": "code",
   "execution_count": 21,
   "metadata": {},
   "outputs": [
    {
     "data": {
      "image/png": "[encoded data removed]",
      "text/plain": [
       "<Figure size 236.22x157.48 with 1 Axes>"
      ]
     },
     "metadata": {},
     "output_type": "display_data"
    }
   ],
   "source": [
    "fig, ax = plt.subplots(figsize=cm_to_inch(6, 4))\n",
    "sns.barplot(data=df_group_rois_param[df_group_rois_param.param==\"TRMI\"], \n",
    "            x=\"ROIs\", \n",
    "            y=\"values\", \n",
    "            errorbar=None, \n",
    "            hue=\"ROIs\",\n",
    "            palette=gist_rainbow_sampled,\n",
    "            ax=ax,\n",
    "            )\n",
    "\n",
    "# change bar edge color\n",
    "for i, bar in enumerate(ax.patches):\n",
    "    bar.set_edgecolor(gist_rainbow_sampled_2[i])\n",
    "    bar.set_linewidth(bar_linewidth)\n",
    "    bar.set_alpha(bar_alpha)\n",
    "\n",
    "for iroi, roi in enumerate(ROIs_list):\n",
    "    for isubject, subject in enumerate(subjects):\n",
    "        pos = ROIs_list.index(roi) + (norm_subID[isubject]-0.5)*0.4\n",
    "        mean_data = df_group_rois_param[(df_group_rois_param.param==\"TRMI\") & (df_group_rois_param.ROIs==roi) & (df_group_rois_param.subjects==subject)][\"values\"].values[0]\n",
    "        sem_data = df_group_rois_param[(df_group_rois_param.param==\"TRMI\") & (df_group_rois_param.ROIs==roi) & (df_group_rois_param.subjects==subject)][\"SEM\"].values[0]\n",
    "        ax.errorbar(pos, \n",
    "                    mean_data, \n",
    "                    yerr=sem_data, \n",
    "                    fmt=\"none\", \n",
    "                    elinewidth=errorbar_linewidth,\n",
    "                    ecolor=gist_rainbow_sampled_3[iroi], \n",
    "                    capsize=errorbar_capsize, \n",
    "                    capthick=errorbar_capthick,\n",
    "                    # clip_on=False,\n",
    "        )\n",
    "        ax.plot(pos, \n",
    "                mean_data, \n",
    "                marker=marker, \n",
    "                markeredgecolor=gist_rainbow_sampled_3[iroi], \n",
    "                markerfacecolor=gist_rainbow_sampled[iroi],\n",
    "                markeredgewidth=marker_edge_width,\n",
    "                markersize=markersize,\n",
    "                clip_on=False,\n",
    "        )\n",
    "\n",
    "sns.despine(offset=4)\n",
    "plt.xticks(rotation=45)\n",
    "plt.xlabel(\"\")\n",
    "plt.ylabel(\"Temporal Response Modulation Index\") \n",
    "plt.ylim(-0.35, 0.55)\n",
    "plt.yticks([-0.3, -0.2, -0.1, 0, 0.1, 0.2, 0.3, 0.4, 0.5])\n",
    "plt.legend([],[], frameon=False)\n",
    "plt.axhline(0, color='black', linewidth=0.5)\n",
    "plt.show()\n",
    "if save_figs:\n",
    "    ax.figure.savefig(figure_result_dir.joinpath(f\"group_analysis-{glm_analysis_type}_space-fsaverage_TRMI_barplot_supplementary.pdf\"), bbox_inches=\"tight\", dpi=600)"
   ]
  }
 ],
 "metadata": {
  "kernelspec": {
   "display_name": "prfexpectpub",
   "language": "python",
   "name": "python3"
  },
  "language_info": {
   "codemirror_mode": {
    "name": "ipython",
    "version": 3
   },
   "file_extension": ".py",
   "mimetype": "text/x-python",
   "name": "python",
   "nbconvert_exporter": "python",
   "pygments_lexer": "ipython3",
   "version": "3.13.7"
  }
 },
 "nbformat": 4,
 "nbformat_minor": 2
}
