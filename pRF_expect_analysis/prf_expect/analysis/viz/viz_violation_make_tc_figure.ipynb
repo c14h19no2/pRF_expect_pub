{
 "cells": [
  {
   "cell_type": "markdown",
   "metadata": {
    "toc": true
   },
   "source": [
    "<h1>Table of Contents<span class=\"tocSkip\"></span></h1>\n",
    "<div class=\"toc\"><ul class=\"toc-item\"><li><span><a href=\"#Parameters\" data-toc-modified-id=\"Parameters-1\"><span class=\"toc-item-num\">1&nbsp;&nbsp;</span>Parameters</a></span></li><li><span><a href=\"#Load-data\" data-toc-modified-id=\"Load-data-2\"><span class=\"toc-item-num\">2&nbsp;&nbsp;</span>Load data</a></span></li><li><span><a href=\"#Create-pycortex-vertex-objects\" data-toc-modified-id=\"Create-pycortex-vertex-objects-3\"><span class=\"toc-item-num\">3&nbsp;&nbsp;</span>Create pycortex vertex objects</a></span></li><li><span><a href=\"#Create-figures-etc\" data-toc-modified-id=\"Create-figures-etc-4\"><span class=\"toc-item-num\">4&nbsp;&nbsp;</span>Create figures etc</a></span></li></ul></div>"
   ]
  },
  {
   "cell_type": "code",
   "execution_count": 1,
   "metadata": {
    "ExecuteTime": {
     "end_time": "2020-09-03T11:52:49.618523Z",
     "start_time": "2020-09-03T11:52:40.698291Z"
    }
   },
   "outputs": [],
   "source": [
    "import cortex as cx\n",
    "import platform\n",
    "from pathlib import Path\n",
    "import json\n",
    "import nilearn.surface as surface\n",
    "import pandas as pd\n",
    "import numpy as np\n",
    "import glob\n",
    "import os, shutil, shlex, subprocess\n",
    "import h5py\n",
    "import matplotlib.pyplot as plt\n",
    "from matplotlib.colors import hsv_to_rgb, rgb2hex\n",
    "from matplotlib import cm\n",
    "from matplotlib.widgets import Slider\n",
    "import seaborn as sns\n",
    "# needs prfpy for prf spatial plot, and for model predictions at some point\n",
    "from prfpy.rf import gauss2D_iso_cart\n",
    "from prfpy.model import Iso2DGaussianModel\n",
    "from prf_expect.utils import io\n",
    "from prf_expect.utils.fit import PRFModel, Parameters\n",
    "from nilearn.glm.first_level.hemodynamic_models import _gamma_difference_hrf\n",
    "from nilearn.glm.first_level.hemodynamic_models import (\n",
    "    spm_hrf,\n",
    "    spm_time_derivative,\n",
    "    spm_dispersion_derivative,\n",
    ")"
   ]
  },
  {
   "cell_type": "code",
   "execution_count": 2,
   "metadata": {},
   "outputs": [
    {
     "name": "stdout",
     "output_type": "stream",
     "text": [
      "None\n"
     ]
    },
    {
     "name": "stderr",
     "output_type": "stream",
     "text": [
      "sh: inkscape: command not found\n"
     ]
    },
    {
     "data": {
      "text/plain": [
       "32512"
      ]
     },
     "execution_count": 2,
     "metadata": {},
     "output_type": "execute_result"
    }
   ],
   "source": [
    "from shutil import which\n",
    "print(which(\"inkscape\"))\n",
    "os.system('inkscape --version')"
   ]
  },
  {
   "cell_type": "code",
   "execution_count": 3,
   "metadata": {},
   "outputs": [
    {
     "name": "stdout",
     "output_type": "stream",
     "text": [
      "cortex.database.default_filestore: /Users/dionysus/Documents/pycortex/db\n",
      "cortex.options.usercfg: /Users/dionysus/Library/Application Support/pycortex/options.cfg\n"
     ]
    }
   ],
   "source": [
    "print('cortex.database.default_filestore: {}'.format(cx.database.default_filestore))\n",
    "print('cortex.options.usercfg: {}'.format(cx.options.usercfg))"
   ]
  },
  {
   "cell_type": "markdown",
   "metadata": {},
   "source": [
    "### Parameters"
   ]
  },
  {
   "cell_type": "code",
   "execution_count": 4,
   "metadata": {
    "ExecuteTime": {
     "end_time": "2020-09-03T11:52:49.634738Z",
     "start_time": "2020-09-03T11:52:49.622033Z"
    }
   },
   "outputs": [],
   "source": [
    "hemis = ['L', 'R']\n",
    "hemi_names = ['left', 'right']\n",
    "model = 'norm'\n",
    "prf_par_names = ['x', 'y', 'prf_size', 'prf_ampl', 'bold_bsl', 'r2']\n",
    "\n",
    "TR = 1.6\n",
    "space = 'fsaverage'\n",
    "subfolder = \"TRMI-type1\"\n",
    "subject = 'sub-012'\n",
    "PE_runs = [\"run-01\", \"run-02\", \"run-03\"]\n",
    "need_yhat = True\n",
    "need_prf = True"
   ]
  },
  {
   "cell_type": "markdown",
   "metadata": {},
   "source": [
    "### Path"
   ]
  },
  {
   "cell_type": "code",
   "execution_count": 5,
   "metadata": {},
   "outputs": [
    {
     "name": "stdout",
     "output_type": "stream",
     "text": [
      "Loading settings from /Users/dionysus/Library/CloudStorage/OneDrive-Personal/Workbench/pRF_expect_pub/pRF_expect_analysis/prf_expect/settings.yml\n"
     ]
    }
   ],
   "source": [
    "settings = io.load_settings()\n",
    "data_dir = Path(settings[\"general\"][\"data_dir\"], \"data\")"
   ]
  },
  {
   "cell_type": "code",
   "execution_count": 6,
   "metadata": {},
   "outputs": [],
   "source": [
    "cwd = os.getcwd()\n",
    "prf_dir = data_dir / \"derivatives\" / \"prf_data\"\n",
    "tc_L = str(prf_dir / subject / \"ses-1\" / \"cut_and_averaged\" / f\"{subject}_ses-1_task-pRF_space-fsaverage_hemi-L_desc-denoised_bold_psc_mean.npy\")\n",
    "tc_R = str(prf_dir / subject / \"ses-1\" / \"cut_and_averaged\" / f\"{subject}_ses-1_task-pRF_space-fsaverage_hemi-R_desc-denoised_bold_psc_mean.npy\")\n",
    "prf_pars_path = str(prf_dir / subject /  \"ses-1\" / \"prf_fits\" / \"prf_params\" / f\"{subject}_ses-1_final-fit_space-fsaverage_model-{model}_stage-iter_desc-prf_params.tsv\")\n",
    "dm_fn = str(prf_dir / subject / \"ses-1\" / \"dms\" / \"dm_task-pRF_run-01.npy\")\n",
    "pred_fn = prf_dir / subject / \"ses-1\" / \"prf_fits\" / \"prf_predictions\" / f\"{subject}_ses-1_task-pRF_final-fit_space-fsaverage_model-{model}_stage-iter_desc-prf_pred.npy\"\n",
    "\n",
    "figure_result_dir = Path(cwd).parent / \"figures\""
   ]
  },
  {
   "cell_type": "markdown",
   "metadata": {},
   "source": [
    "### Setup figure"
   ]
  },
  {
   "cell_type": "code",
   "execution_count": 7,
   "metadata": {},
   "outputs": [],
   "source": [
    "flatmap_height = 2048\n",
    "full_figsize = (14, 10)"
   ]
  },
  {
   "cell_type": "code",
   "execution_count": 8,
   "metadata": {},
   "outputs": [],
   "source": [
    "vf_extent = [-5.72, 5.72]\n",
    "nr_vf_pix = 200\n",
    "prf_space_x, prf_space_y = np.meshgrid(np.linspace(vf_extent[0], vf_extent[1], nr_vf_pix, endpoint=True),\n",
    "                                       np.linspace(vf_extent[0], vf_extent[1], nr_vf_pix, endpoint=True))"
   ]
  },
  {
   "cell_type": "markdown",
   "metadata": {},
   "source": [
    "### Load data\n",
    "timecourses, prf parameters, and design matrix."
   ]
  },
  {
   "cell_type": "code",
   "execution_count": 9,
   "metadata": {},
   "outputs": [],
   "source": [
    "prf_pars_df = pd.read_csv(prf_pars_path, sep='\\t', header=0)"
   ]
  },
  {
   "cell_type": "code",
   "execution_count": 10,
   "metadata": {
    "ExecuteTime": {
     "end_time": "2020-09-03T11:52:52.322871Z",
     "start_time": "2020-09-03T11:52:49.637608Z"
    }
   },
   "outputs": [],
   "source": [
    "viol_data_runs = []\n",
    "viol_pred_runs = []\n",
    "omit_pred_runs = []\n",
    "spar_pred_runs = []\n",
    "omit_dm_runs = []\n",
    "spar_dm_runs = []\n",
    "spar_dm_runs_general = []\n",
    "# load pRF pred data\n",
    "pRF_pred_run = np.load(\n",
    "    os.path.join(\n",
    "        prf_dir,\n",
    "        subject,\n",
    "        \"ses-1\",\n",
    "        \"prf_fits\",\n",
    "        \"prf_predictions\",\n",
    "        f\"{subject}_ses-1_task-pRF_final-fit_space-fsaverage_model-norm_stage-iter_desc-prf_pred.npy\",\n",
    "    )\n",
    ").T\n",
    "for run in PE_runs:\n",
    "    # Load the violation data\n",
    "    viol_data_run = np.concatenate(\n",
    "        [\n",
    "            np.load(file).T\n",
    "            for LR in [\"L\", \"R\"]\n",
    "            for file in sorted(\n",
    "                glob.glob(\n",
    "                    os.path.join(\n",
    "                        prf_dir,\n",
    "                        subject,\n",
    "                        \"ses-1\",\n",
    "                        \"cut_and_averaged\",\n",
    "                        f\"{subject}_ses-1_task-PE_{run}_space-fsaverage_hemi-{LR}_desc-denoised_bold_psc_violation.npy\",\n",
    "                    )\n",
    "                )\n",
    "            )\n",
    "        ]\n",
    "    ).T\n",
    "\n",
    "    viol_pred_run = np.load(\n",
    "        os.path.join(\n",
    "            prf_dir,\n",
    "            subject,\n",
    "            \"ses-1\",\n",
    "            \"prf_fits\",\n",
    "            \"prf_predictions\",\n",
    "            f\"{subject}_ses-1_task-violation_{run}_space-fsaverage_preds.npy\",\n",
    "        )\n",
    "    ).T\n",
    "\n",
    "    # load omission pred data\n",
    "    omit_pred_run = np.load(\n",
    "        os.path.join(\n",
    "            prf_dir, subject, \"ses-1\", \"prf_fits\", \"prf_predictions\", f\"{subject}_ses-1_task-omission_{run}_space-fsaverage_preds.npy\"\n",
    "        )\n",
    "    ).T\n",
    "\n",
    "    # load sparse pred data\n",
    "    spar_pred_run = np.load(\n",
    "        os.path.join(\n",
    "            prf_dir, subject, \"ses-1\", \"prf_fits\", \"prf_predictions\", f\"{subject}_ses-1_task-sparse_{run}_space-fsaverage_preds.npy\"\n",
    "        )\n",
    "    ).T\n",
    "\n",
    "    # load the sparse dm\n",
    "    omit_dm_load = np.load(\n",
    "        os.path.join(prf_dir, subject, \"ses-1\", \"dms\", f\"{subject}_ses-1_task-omission_{run}_dm.npy\")\n",
    "    )\n",
    "    spar_dm_load = np.load(\n",
    "        os.path.join(prf_dir, subject, \"ses-1\", \"dms\", f\"{subject}_ses-1_task-sparse_{run}_dm.npy\")\n",
    "    )\n",
    "    spar_dm_sum = np.sum(spar_dm_load, axis=(0, 1))\n",
    "    spar_dm_run = np.where(spar_dm_sum > 0, 1, 0)\n",
    "\n",
    "    viol_data_runs.append(viol_data_run)\n",
    "    viol_pred_runs.append(viol_pred_run)\n",
    "    omit_pred_runs.append(omit_pred_run)\n",
    "    spar_pred_runs.append(spar_pred_run)\n",
    "    \n",
    "    spar_dm_runs_general.append(spar_dm_run)\n",
    "    omit_dm_runs.append(omit_dm_load)\n",
    "    spar_dm_runs.append(spar_dm_load)\n",
    "\n",
    "tc_data = np.concatenate(viol_data_runs, axis=0).T\n",
    "pRF_pred = np.tile(pRF_pred_run, (3,1)).T\n",
    "viol_pred = np.concatenate(viol_pred_runs, axis=0).T\n",
    "omit_pred = np.concatenate(omit_pred_runs, axis=0).T\n",
    "spar_pred = np.concatenate(spar_pred_runs, axis=0).T\n",
    "\n",
    "omit_dm = np.concatenate(omit_dm_runs, axis=2)\n",
    "spar_dm = np.concatenate(spar_dm_runs, axis=2)\n",
    "spar_dm_general = np.concatenate(spar_dm_runs_general, axis=0)\n",
    "prf_expect = pRF_pred - omit_pred\n"
   ]
  },
  {
   "cell_type": "code",
   "execution_count": 11,
   "metadata": {},
   "outputs": [],
   "source": [
    "# Target depth after upsampling\n",
    "def upsample(original_matrix):\n",
    "    height = original_matrix.shape[0]\n",
    "    width = original_matrix.shape[1]\n",
    "    depth = original_matrix.shape[2]\n",
    "    target_depth = 37500\n",
    "    upsampled_matrix = np.zeros((height, width, target_depth), dtype=int)\n",
    "\n",
    "    # Upsample each slice along the third dimension\n",
    "    for i in range(height):\n",
    "        for j in range(width):\n",
    "            # Find positions of 1s in the current depth slice\n",
    "            one_positions = np.where(original_matrix[i, j] == 1)[0]\n",
    "\n",
    "            # Scale these positions to the new depth\n",
    "            scaled_positions = (one_positions * (target_depth / depth)).astype(int)\n",
    "\n",
    "            # Place 1s at the scaled positions in the upsampled matrix\n",
    "            upsampled_matrix[i, j, scaled_positions] = 1\n",
    "    return upsampled_matrix"
   ]
  },
  {
   "cell_type": "code",
   "execution_count": 12,
   "metadata": {},
   "outputs": [
    {
     "data": {
      "image/png": "[encoded data removed]",
      "text/plain": [
       "<Figure size 1500x900 with 20 Axes>"
      ]
     },
     "metadata": {},
     "output_type": "display_data"
    }
   ],
   "source": [
    "# set up black to grey colormap\n",
    "cmap = plt.cm.gray\n",
    "# crop the gray colormap to only include the black to grey range\n",
    "cmap = cmap(np.linspace(0, 0.8, 256))\n",
    "# create a new colormap with the cropped range\n",
    "cmap = plt.cm.colors.ListedColormap(cmap)\n",
    "figure, axes = plt.subplots(1, 20, figsize=(5, 3), dpi=300)\n",
    "for i, ax in enumerate(axes.flatten()):\n",
    "    image = upsample(spar_dm)[:, :, (i+35)*100] + upsample(omit_dm)[:, :, (i+35)*100]\n",
    "    ax.matshow(image, cmap=cmap, alpha=0.75)\n",
    "    ax.set_xticks([])\n",
    "    ax.set_yticks([])\n",
    "    ax.axis('off')"
   ]
  },
  {
   "cell_type": "code",
   "execution_count": 13,
   "metadata": {},
   "outputs": [
    {
     "name": "stdout",
     "output_type": "stream",
     "text": [
      "(63, 63, 375)\n"
     ]
    }
   ],
   "source": [
    "print(spar_dm.shape)"
   ]
  },
  {
   "cell_type": "markdown",
   "metadata": {},
   "source": [
    "### Go to settings.yml and change the TR to 0.016s to get a correct upsampling here\n",
    "Yeah I know it's weird but Im lazy to change all the other code that assumes TR=1.6s"
   ]
  },
  {
   "cell_type": "code",
   "execution_count": 14,
   "metadata": {},
   "outputs": [],
   "source": [
    "def predict_prf(\n",
    "    subject,\n",
    "    space,\n",
    "    prf_data,\n",
    "    prf_dm,\n",
    "    prf_params_dir,\n",
    "    model=\"norm\",\n",
    "    stage=\"iter\",\n",
    "    voxel_selection=None,\n",
    "):\n",
    "    # load in the model parameters from a pickle file\n",
    "    params_tsv_name = os.path.join(\n",
    "        prf_params_dir,\n",
    "        f\"{subject}_ses-1_final-fit_space-{space}_model-{model}_stage-{stage}_desc-prf_params.tsv\",\n",
    "    )\n",
    "\n",
    "    # Define the objects for the prf fits\n",
    "    prf_obj = PRFModel()\n",
    "    prf_obj.get_dm(prf_dm)\n",
    "    prf_obj.get_data(prf_data)\n",
    "    params = pd.read_csv(params_tsv_name, sep=\"\\t\")\n",
    "    prf_obj.load_params(params, model=model, stage=stage)\n",
    "    prf_preds = prf_obj.make_predictions(model=\"norm\", vox_nr=voxel_selection)\n",
    "    return prf_preds"
   ]
  },
  {
   "cell_type": "code",
   "execution_count": 15,
   "metadata": {},
   "outputs": [],
   "source": [
    "def set_hrf(TR, hrf_deriv, hrf_disp):\n",
    "    hrf_params = [1, hrf_deriv, hrf_disp]\n",
    "    hrf = np.array(\n",
    "        [\n",
    "            np.ones_like(hrf_params[1], dtype=\"float32\")\n",
    "            * hrf_params[0]\n",
    "            * spm_hrf(tr=TR, oversampling=1, time_length=40),\n",
    "            hrf_params[1] * spm_time_derivative(tr=TR, oversampling=1, time_length=40),\n",
    "            hrf_params[2]\n",
    "            * spm_dispersion_derivative(tr=TR, oversampling=1, time_length=40),\n",
    "        ],\n",
    "        dtype=\"float32\",\n",
    "    ).sum(axis=0)\n",
    "    hrf /= hrf.max()\n",
    "    return hrf"
   ]
  },
  {
   "cell_type": "code",
   "execution_count": 16,
   "metadata": {},
   "outputs": [],
   "source": [
    "dm_fn = str(prf_dir / subject / \"ses-1\" / \"dms\" / \"dm_task-pRF_run-01.npy\")\n",
    "design_matrix = np.load(dm_fn)\n",
    "dm_guideline = design_matrix.sum((0,1))\n",
    "# scale dm_guideline to 0-5\n",
    "dm_guideline = 5 * (dm_guideline - dm_guideline.min()) / (dm_guideline.max() - dm_guideline.min())\n",
    "dm_guideline = np.tile(dm_guideline, 3)"
   ]
  },
  {
   "cell_type": "code",
   "execution_count": 17,
   "metadata": {},
   "outputs": [],
   "source": [
    "rsq = np.array(prf_pars_df['r2'])\n",
    "\n",
    "rsq_violmodel = np.load(\n",
    "    os.path.join(prf_dir, subject, \"ses-1\", subfolder, f\"{subject}_ses-1_space-fsaverage_surprise-viol_rsq.npy\")\n",
    ")\n",
    "\n",
    "TRMI = np.load(\n",
    "    os.path.join(prf_dir, subject, \"ses-1\", subfolder, f\"{subject}_ses-1_space-fsaverage_surprise-TRMI.npy\")\n",
    ")\n",
    "beta_sparsedm = np.load(\n",
    "    os.path.join(prf_dir, subject, \"ses-1\", subfolder, f\"{subject}_ses-1_space-fsaverage_surprise-viol_beta_sparsedm.npy\")\n",
    ")\n",
    "beta_omitdm = np.load(\n",
    "    os.path.join(prf_dir, subject, \"ses-1\", subfolder, f\"{subject}_ses-1_space-fsaverage_surprise-viol_beta_omitdm.npy\")\n",
    ")"
   ]
  },
  {
   "cell_type": "code",
   "execution_count": 18,
   "metadata": {},
   "outputs": [],
   "source": [
    "ROIs_list_long = ('V1', 'V2', 'V3', 'V3A', 'V3B', 'V4', 'LO1', 'LO2', 'VO1', \n",
    "        'VO2', 'hMT', 'MST', 'IPS0', 'IPS1', 'IPS2', 'IPS3', 'IPS4', 'IPS5')\n",
    "ROIs_list_short = [\"V1\", \"V2\", \"V3\", \"V3AB\", \"hV4\", \"LO\", \"TO\", \"VO\", \"IPS\"]\n",
    "roi_verts = cx.get_roi_verts('fsaverage', ROIs_list_long)"
   ]
  },
  {
   "cell_type": "code",
   "execution_count": 19,
   "metadata": {},
   "outputs": [
    {
     "name": "stdout",
     "output_type": "stream",
     "text": [
      "average rsq of V1: 0.66 \n",
      "average rsq of V2: 0.64 \n",
      "average rsq of V3: 0.53 \n",
      "average rsq of V3A: 0.46 \n",
      "average rsq of V3B: 0.47 \n",
      "average rsq of V4: 0.43 \n",
      "average rsq of LO1: 0.45 \n",
      "average rsq of LO2: 0.36 \n",
      "average rsq of VO1: 0.35 \n",
      "average rsq of VO2: 0.17 \n",
      "average rsq of hMT: 0.59 \n",
      "average rsq of MST: 0.45 \n",
      "average rsq of IPS0: 0.41 \n",
      "average rsq of IPS1: 0.41 \n",
      "average rsq of IPS2: 0.27 \n",
      "average rsq of IPS3: 0.27 \n",
      "average rsq of IPS4: 0.27 \n",
      "average rsq of IPS5: 0.25 \n"
     ]
    },
    {
     "data": {
      "image/png": "[encoded data removed]",
      "text/plain": [
       "<Figure size 1200x600 with 18 Axes>"
      ]
     },
     "metadata": {},
     "output_type": "display_data"
    }
   ],
   "source": [
    "fig, ax = plt.subplots(3, 6, figsize=(12, 6))\n",
    "ax = ax.flatten()\n",
    "for i, roi in enumerate(ROIs_list_long):\n",
    "    print(\"average rsq of {}: {} \".format(roi, np.nanmax(rsq_violmodel[roi_verts[roi]]).round(2)))\n",
    "    ax[i].hist(rsq_violmodel[roi_verts[roi]], bins=50)\n",
    "    ax[i].set_title(roi)\n",
    "    ax[i].axvline(0, color='r')\n",
    "fig.tight_layout()\n",
    "plt.show()\n",
    "plt.close()\n"
   ]
  },
  {
   "cell_type": "markdown",
   "metadata": {},
   "source": [
    "### Create pycortex vertex objects"
   ]
  },
  {
   "cell_type": "code",
   "execution_count": 20,
   "metadata": {
    "ExecuteTime": {
     "end_time": "2020-09-03T11:52:59.484912Z",
     "start_time": "2020-09-03T11:52:52.326431Z"
    }
   },
   "outputs": [],
   "source": [
    "thresh = 0.1\n",
    "rsq_mask = rsq > thresh\n",
    "\n",
    "TRMI[~rsq_mask] = np.nan\n",
    "beta_sparsedm[~rsq_mask] = np.nan\n",
    "beta_omitdm[~rsq_mask] = np.nan\n",
    "\n",
    "TRMI_v = cx.Vertex2D(dim1=TRMI, dim2=rsq, subject=space,\n",
    "                    cmap='PRGn_alpha', vmin=-0.3, vmax=0.3, vmin2=0, vmax2=0.5)\n",
    "beta_sparsedm_v = cx.Vertex2D(dim1=beta_sparsedm, dim2=rsq, subject=space,\n",
    "                    cmap='seismic_alpha', vmin=0, vmax=2, vmin2=0, vmax2=0.5)\n",
    "beta_omitdm_v = cx.Vertex2D(dim1=beta_omitdm, dim2=rsq, subject=space,\n",
    "                    cmap='seismic_alpha', vmin=0, vmax=2, vmin2=0, vmax2=0.5)\n",
    "rsq_violmodel_v = cx.Vertex(rsq_violmodel, subject=space, cmap='inferno', vmin=0, vmax=0.5)\n",
    "\n",
    "###################################################################################################\n",
    "###################################################################################################\n",
    "#######\n",
    "# create pycortex vars\n",
    "#######\n",
    "###################################################################################################\n",
    "###################################################################################################\n",
    "\n",
    "mask, extents = cx.quickflat.utils.get_flatmask(space, height=flatmap_height)\n",
    "vc = cx.quickflat.utils._make_vertex_cache(space, height=flatmap_height)\n",
    "\n",
    "mask_index = np.zeros(mask.shape)\n",
    "mask_index[mask] = np.arange(mask.sum())"
   ]
  },
  {
   "cell_type": "markdown",
   "metadata": {},
   "source": [
    "### Create figures etc"
   ]
  },
  {
   "cell_type": "code",
   "execution_count": 21,
   "metadata": {},
   "outputs": [
    {
     "name": "stdout",
     "output_type": "stream",
     "text": [
      "0.6581828263553844\n",
      "170922\n",
      "[170922 300837 195722 207800 277963  79676 177080 207802 277950 173273]\n"
     ]
    }
   ],
   "source": [
    "print(np.nanmax(rsq_violmodel))\n",
    "print(np.nanargmax(rsq_violmodel))\n",
    "# find 10 vertices with the highest r2 values\n",
    "argsorted_v = np.argsort(rsq_violmodel)[::-1]\n",
    "while np.isnan(rsq_violmodel[argsorted_v[0]]):\n",
    "    argsorted_v = argsorted_v[1:]\n",
    "print(argsorted_v[0:10])\n"
   ]
  },
  {
   "cell_type": "code",
   "execution_count": 22,
   "metadata": {},
   "outputs": [
    {
     "name": "stdout",
     "output_type": "stream",
     "text": [
      "V1: 79676, glm_rsq: 0.65, viol_ratio: -0.16\n",
      "V2: 46066, glm_rsq: 0.49, viol_ratio: -0.16\n",
      "V3: 43672, glm_rsq: 0.44, viol_ratio: -0.15\n",
      "V3A: 130302, glm_rsq: 0.42, viol_ratio: -0.23\n",
      "V3B: 321786, glm_rsq: 0.47, viol_ratio: -0.17\n",
      "V4: 230280, glm_rsq: 0.38, viol_ratio: -0.16\n",
      "LO1: 185447, glm_rsq: 0.40, viol_ratio: -0.16\n",
      "LO2: 126647, glm_rsq: 0.24, viol_ratio: -0.39\n",
      "VO1: 170948, glm_rsq: 0.17, viol_ratio: 0.15\n",
      "VO2: 165230, glm_rsq: 0.06, viol_ratio: 0.22\n",
      "hMT: 185396, glm_rsq: 0.14, viol_ratio: 0.17\n",
      "MST: 276366, glm_rsq: 0.19, viol_ratio: 0.15\n",
      "IPS0: 250948, glm_rsq: 0.33, viol_ratio: -0.15\n",
      "IPS1: 30036, glm_rsq: 0.26, viol_ratio: -0.22\n",
      "IPS2: 86778, glm_rsq: 0.14, viol_ratio: -0.15\n",
      "IPS3: 211611, glm_rsq: 0.17, viol_ratio: -0.16\n",
      "IPS4: 305991, glm_rsq: 0.15, viol_ratio: -0.16\n",
      "IPS5: 213973, glm_rsq: 0.13, viol_ratio: -0.26\n"
     ]
    }
   ],
   "source": [
    "# find vetecies with a high viol_ratio and high model r2\n",
    "viol_ratio_thresh = 0.15\n",
    "for roi in roi_verts.keys():\n",
    "    # find the vertex with the highest r2 value in each ROI, but still keep the \n",
    "    roi_argsorted_v = np.argsort(rsq_violmodel[roi_verts[roi]])[::-1]\n",
    "    while (np.isnan(rsq_violmodel[roi_verts[roi]][roi_argsorted_v[0]])) or (np.abs(TRMI[roi_verts[roi]][roi_argsorted_v[0]])<viol_ratio_thresh):\n",
    "        roi_argsorted_v = roi_argsorted_v[1:]\n",
    "    print(f'{roi}: {roi_verts[roi][roi_argsorted_v[0]]}, glm_rsq: {rsq_violmodel[roi_verts[roi]][roi_argsorted_v[0]]:.2f}, viol_ratio: {TRMI[roi_verts[roi]][roi_argsorted_v[0]]:.2f}')"
   ]
  },
  {
   "cell_type": "code",
   "execution_count": 23,
   "metadata": {},
   "outputs": [],
   "source": [
    "best_voxel = 251134"
   ]
  },
  {
   "cell_type": "code",
   "execution_count": 24,
   "metadata": {},
   "outputs": [
    {
     "name": "stdout",
     "output_type": "stream",
     "text": [
      "Loading settings from /Users/dionysus/Library/CloudStorage/OneDrive-Personal/Workbench/pRF_expect_pub/pRF_expect_analysis/prf_expect/settings.yml\n",
      "Inserting parameters from <class 'pandas.core.frame.DataFrame'> as 'norm_iter' in <prf_expect.utils.fit.PRFModel object at 0x137aab770>\n",
      "Loading settings from /Users/dionysus/Library/CloudStorage/OneDrive-Personal/Workbench/pRF_expect_pub/pRF_expect_analysis/prf_expect/settings.yml\n",
      "Inserting parameters from <class 'pandas.core.frame.DataFrame'> as 'norm_iter' in <prf_expect.utils.fit.PRFModel object at 0x143297ed0>\n"
     ]
    }
   ],
   "source": [
    "prf_params_dir = str(prf_dir / subject / \"ses-1\"/ \"prf_fits\" / \"prf_params\")\n",
    "omit_pred_hires = predict_prf(subject, space, omit_pred, upsample(omit_dm), prf_params_dir, voxel_selection=best_voxel)\n",
    "spar_pred_hires = predict_prf(subject, space, spar_pred, upsample(spar_dm), prf_params_dir, voxel_selection=best_voxel)\n",
    "\n",
    "omit_pred_hires = np.squeeze(omit_pred_hires[0])\n",
    "spar_pred_hires = np.squeeze(spar_pred_hires[0])"
   ]
  },
  {
   "cell_type": "code",
   "execution_count": 25,
   "metadata": {},
   "outputs": [],
   "source": [
    "def get_hex_color(cmap_name='BrBG_r', value=None):\n",
    "    cmap = plt.cm.get_cmap(cmap_name)\n",
    "    norm = plt.Normalize(-0.3, 0.3)\n",
    "    rgba = cmap(norm(value))\n",
    "    hex_color = rgb2hex(rgba[:3])\n",
    "    return hex_color"
   ]
  },
  {
   "cell_type": "code",
   "execution_count": 26,
   "metadata": {},
   "outputs": [
    {
     "name": "stderr",
     "output_type": "stream",
     "text": [
      "/var/folders/1x/nhszthp519l9hrq_yddm9yhr0000gn/T/ipykernel_2032/1269017587.py:1: MatplotlibDeprecationWarning: The get_cmap function was deprecated in Matplotlib 3.7 and will be removed in 3.11. Use ``matplotlib.colormaps[name]`` or ``matplotlib.colormaps.get_cmap()`` or ``pyplot.get_cmap()`` instead.\n",
      "  cmap = plt.cm.get_cmap('BrBG_r')\n"
     ]
    },
    {
     "data": {
      "image/png": "[encoded data removed]",
      "text/html": [
       "<div style=\"vertical-align: middle;\"><strong>BrBG_r</strong> </div><div class=\"cmap\"><img alt=\"BrBG_r colormap\" title=\"BrBG_r\" style=\"border: 1px solid #555;\" src=\"data:image/png;base64,iVBORw0KGgoAAAANSUhEUgAAAgAAAABACAYAAABsv8+/AAAAFXRFWHRUaXRsZQBCckJHX3IgY29sb3JtYXAqzXWGAAAAG3RFWHREZXNjcmlwdGlvbgBCckJHX3IgY29sb3JtYXBjWm1iAAAAMXRFWHRBdXRob3IATWF0cGxvdGxpYiB2My4xMC42LCBodHRwczovL21hdHBsb3RsaWIub3Jn2EyioAAAADN0RVh0U29mdHdhcmUATWF0cGxvdGxpYiB2My4xMC42LCBodHRwczovL21hdHBsb3RsaWIub3JnfWixVAAAAhRJREFUeJzt1lFO4zAARVHb3RALYP+rIs6ISRwpFpm2Awihd86PcWI7pa2qW8vry1re1fp3KK1tY23n+XF9Wne5vt45Z1p3dc6j6/ax7a+vjfl3jd/8nNsxr6f50+Otfcn++XU9P+7/Rz2/f7cxjnX1at18/7zv3ro2X28PrrvYt38bS9v/Or6ex7ye143zx/3p+uW66dx6+bxp3XHOx69rXB/PLaVvw9p/5byW7Wds7cs2rss07/91v3xy/3y/PLp/GvsyXV/e9nG/f1yf18333+7c//icfrHv+vWN+bav93Ua+3PX9/fnx/b37fqyjvP2j3N8rOt5XI7nln+u//R5075Hzxvj+B0AAIIIAAAIJAAAIJAAAIBAAgAAAgkAAAgkAAAgkAAAgEACAAACCQAACCQAACCQAACAQAIAAAIJAAAIJAAAIJAAAIBAAgAAAgkAAAgkAAAgkAAAgEACAAACCQAACCQAACCQAACAQAIAAAIJAAAIJAAAIJAAAIBAAgAAAgkAAAgkAAAgkAAAgEACAAACCQAACCQAACCQAACAQAIAAAIJAAAIJAAAIJAAAIBAAgAAAgkAAAgkAAAgkAAAgEACAAACCQAACCQAACCQAACAQAIAAAIJAAAIJAAAIJAAAIBAAgAAAgkAAAgkAAAgkAAAgEACAAACCQAACCQAACCQAACAQAIAAAIJAAAIJAAAINAfHadCF0D9urkAAAAASUVORK5CYII=\"></div><div style=\"vertical-align: middle; max-width: 514px; display: flex; justify-content: space-between;\"><div style=\"float: left;\"><div title=\"#003c30ff\" style=\"display: inline-block; width: 1em; height: 1em; margin: 0; vertical-align: middle; border: 1px solid #555; background-color: #003c30ff;\"></div> under</div><div style=\"margin: 0 auto; display: inline-block;\">bad <div title=\"#00000000\" style=\"display: inline-block; width: 1em; height: 1em; margin: 0; vertical-align: middle; border: 1px solid #555; background-color: #00000000;\"></div></div><div style=\"float: right;\">over <div title=\"#543005ff\" style=\"display: inline-block; width: 1em; height: 1em; margin: 0; vertical-align: middle; border: 1px solid #555; background-color: #543005ff;\"></div></div></div>"
      ],
      "text/plain": [
       "<matplotlib.colors.LinearSegmentedColormap at 0x143130a10>"
      ]
     },
     "execution_count": 26,
     "metadata": {},
     "output_type": "execute_result"
    }
   ],
   "source": [
    "cmap = plt.cm.get_cmap('BrBG_r')\n",
    "cmap"
   ]
  },
  {
   "cell_type": "code",
   "execution_count": 27,
   "metadata": {},
   "outputs": [
    {
     "name": "stderr",
     "output_type": "stream",
     "text": [
      "/var/folders/1x/nhszthp519l9hrq_yddm9yhr0000gn/T/ipykernel_2032/2723579929.py:2: MatplotlibDeprecationWarning: The get_cmap function was deprecated in Matplotlib 3.7 and will be removed in 3.11. Use ``matplotlib.colormaps[name]`` or ``matplotlib.colormaps.get_cmap()`` or ``pyplot.get_cmap()`` instead.\n",
      "  cmap = plt.cm.get_cmap(cmap_name)\n"
     ]
    },
    {
     "data": {
      "image/png": "[encoded data removed]",
      "text/plain": [
       "<Figure size 600x300 with 1 Axes>"
      ]
     },
     "metadata": {},
     "output_type": "display_data"
    }
   ],
   "source": [
    "%matplotlib inline\n",
    "timecourse_ax = plt.figure(figsize=(6, 3)).add_subplot(111)\n",
    "\n",
    "def redraw_vertex_plots(vertex, refresh=False):\n",
    "    if refresh:\n",
    "        timecourse_ax.clear()\n",
    "    timecourse_ax.axhline(0, color='black', lw=0.25)\n",
    "    omit_pred_vertex = omit_pred_hires\n",
    "    spar_pred_vertex = spar_pred_hires\n",
    "    timecourse_ax.plot(omit_pred_vertex*1, color='#0D72B9', lw=1)\n",
    "    for index in [0.3, 0.2, 0.1, 0, -0.1, -0.2, -0.3]:\n",
    "        beta = (-index-0.5)/(index-1)\n",
    "        color = get_hex_color(cmap_name='BrBG_r', value=index)\n",
    "        timecourse_ax.plot(spar_pred_vertex * beta, color=color, lw=1, label='SAI = {:.1f}'.format(index))\n",
    "    \n",
    "    timecourse_ax.set_xlim(3500, 6500)\n",
    "    timecourse_ax.set_ylim(-1, 3)\n",
    "    timecourse_ax.set_yticks(range(-1, 4, 1))\n",
    "    sns.despine(offset=10, ax=timecourse_ax)\n",
    "    timecourse_ax.legend(loc=\"upper left\")\n",
    "\n",
    "    if prf_pars_df['prf_ampl'][vertex] != 0:\n",
    "        pass\n",
    "\n",
    "\n",
    "def zoom_to_roi(axis, space, roi, hem, margin=10.0):\n",
    "    roi_verts = cx.get_roi_verts(space, roi)[roi]\n",
    "    roi_map = cx.Vertex.empty(space)\n",
    "    roi_map.data[roi_verts] = 1\n",
    "\n",
    "    (lflatpts, lpolys), (rflatpts, rpolys) = cx.db.get_surf(space, \"flat\",\n",
    "                                                            nudge=True)\n",
    "    sel_pts = dict(left=lflatpts, right=rflatpts)[hem]\n",
    "    roi_pts = sel_pts[np.nonzero(getattr(roi_map, hem))[0], :2]\n",
    "\n",
    "    xmin, ymin = roi_pts.min(0) - margin\n",
    "    xmax, ymax = roi_pts.max(0) + margin\n",
    "    print([xmin, xmax, ymin, ymax])\n",
    "    axis.axis([xmin, xmax, ymin, ymax])\n",
    "\n",
    "    return [xmin, xmax, ymin, ymax]\n",
    "\n",
    "redraw_vertex_plots(best_voxel)\n",
    "plt.draw()\n",
    "plt.show()\n",
    "\n",
    "# save pdf\n",
    "timecourse_ax.get_figure().savefig(figure_result_dir / f\"{subject}_ses-1_task-pRF_space-fsaverage_desc-viol_timecourse.pdf\", dpi=600, bbox_inches='tight')\n",
    "plt.close('all')"
   ]
  },
  {
   "cell_type": "code",
   "execution_count": 28,
   "metadata": {},
   "outputs": [
    {
     "data": {
      "image/png": "[encoded data removed]",
      "text/plain": [
       "<Figure size 300x300 with 1 Axes>"
      ]
     },
     "metadata": {},
     "output_type": "display_data"
    }
   ],
   "source": [
    "prf_ax = plt.figure(figsize=(3, 3)).add_subplot(111)\n",
    "prf = gauss2D_iso_cart(prf_space_x,\n",
    "                        prf_space_y,\n",
    "                        [prf_pars_df['x'][best_voxel],\n",
    "                            prf_pars_df['y'][best_voxel]],\n",
    "                        prf_pars_df['prf_size'][best_voxel])\n",
    "prf_ax.clear()\n",
    "prf_ax.matshow(prf, extent=vf_extent+vf_extent, cmap='cubehelix')\n",
    "prf_ax.axvline(0, color='white', linestyle='dashed', lw=0.5)\n",
    "prf_ax.axhline(0, color='white', linestyle='dashed', lw=0.5)\n",
    "\n",
    "prf_ax.set_xticks([])\n",
    "prf_ax.set_yticks([])\n",
    "plt.axis('off')\n",
    "plt.show()\n",
    "prf_ax.get_figure().savefig(figure_result_dir / f\"{subject}_ses-1_task-pRF_space-fsaverage_desc-prf_gauss2D_iso_cart.pdf\", dpi=600, bbox_inches='tight')\n"
   ]
  },
  {
   "cell_type": "markdown",
   "metadata": {},
   "source": [
    "### And remember go back to settings.yml and change the TR back to 1.6 when you're done"
   ]
  }
 ],
 "metadata": {
  "kernelspec": {
   "display_name": "prfexpectpub",
   "language": "python",
   "name": "python3"
  },
  "language_info": {
   "codemirror_mode": {
    "name": "ipython",
    "version": 3
   },
   "file_extension": ".py",
   "mimetype": "text/x-python",
   "name": "python",
   "nbconvert_exporter": "python",
   "pygments_lexer": "ipython3",
   "version": "3.13.7"
  },
  "toc": {
   "base_numbering": 1,
   "nav_menu": {},
   "number_sections": true,
   "sideBar": true,
   "skip_h1_title": false,
   "title_cell": "Table of Contents",
   "title_sidebar": "Contents",
   "toc_cell": true,
   "toc_position": {},
   "toc_section_display": true,
   "toc_window_display": false
  }
 },
 "nbformat": 4,
 "nbformat_minor": 4
}
