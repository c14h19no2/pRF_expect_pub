{
 "cells": [
  {
   "cell_type": "markdown",
   "metadata": {
    "toc": true
   },
   "source": [
    "<h1>Table of Contents<span class=\"tocSkip\"></span></h1>\n",
    "<div class=\"toc\"><ul class=\"toc-item\"><li><span><a href=\"#Parameters\" data-toc-modified-id=\"Parameters-1\"><span class=\"toc-item-num\">1&nbsp;&nbsp;</span>Parameters</a></span></li><li><span><a href=\"#Load-data\" data-toc-modified-id=\"Load-data-2\"><span class=\"toc-item-num\">2&nbsp;&nbsp;</span>Load data</a></span></li><li><span><a href=\"#Create-pycortex-vertex-objects\" data-toc-modified-id=\"Create-pycortex-vertex-objects-3\"><span class=\"toc-item-num\">3&nbsp;&nbsp;</span>Create pycortex vertex objects</a></span></li><li><span><a href=\"#Create-figures-etc\" data-toc-modified-id=\"Create-figures-etc-4\"><span class=\"toc-item-num\">4&nbsp;&nbsp;</span>Create figures etc</a></span></li></ul></div>"
   ]
  },
  {
   "cell_type": "code",
   "execution_count": 1,
   "metadata": {
    "ExecuteTime": {
     "end_time": "2020-09-03T11:52:49.618523Z",
     "start_time": "2020-09-03T11:52:40.698291Z"
    }
   },
   "outputs": [],
   "source": [
    "import cortex as cx\n",
    "import platform\n",
    "from pathlib import Path\n",
    "import json\n",
    "import nilearn.surface as surface\n",
    "import pandas as pd\n",
    "import numpy as np\n",
    "import os, shutil, shlex, subprocess\n",
    "import h5py\n",
    "import matplotlib.pyplot as plt\n",
    "from matplotlib.colors import hsv_to_rgb\n",
    "from matplotlib import cm\n",
    "import seaborn as sns\n",
    "from prf_expect.utils import io\n",
    "\n",
    "# needs prfpy for prf spatial plot, and for model predictions at some point\n",
    "from prfpy.rf import gauss2D_iso_cart\n",
    "from prfpy.model import Iso2DGaussianModel"
   ]
  },
  {
   "cell_type": "code",
   "execution_count": 2,
   "metadata": {},
   "outputs": [
    {
     "name": "stdout",
     "output_type": "stream",
     "text": [
      "None\n"
     ]
    },
    {
     "name": "stderr",
     "output_type": "stream",
     "text": [
      "sh: inkscape: command not found\n"
     ]
    },
    {
     "data": {
      "text/plain": [
       "32512"
      ]
     },
     "execution_count": 2,
     "metadata": {},
     "output_type": "execute_result"
    }
   ],
   "source": [
    "from shutil import which\n",
    "print(which(\"inkscape\"))\n",
    "os.system('inkscape --version')"
   ]
  },
  {
   "cell_type": "code",
   "execution_count": 3,
   "metadata": {},
   "outputs": [
    {
     "name": "stdout",
     "output_type": "stream",
     "text": [
      "cortex.database.default_filestore: /Users/dionysus/Documents/pycortex/db\n",
      "cortex.options.usercfg: /Users/dionysus/Library/Application Support/pycortex/options.cfg\n"
     ]
    }
   ],
   "source": [
    "print('cortex.database.default_filestore: {}'.format(cx.database.default_filestore))\n",
    "print('cortex.options.usercfg: {}'.format(cx.options.usercfg))"
   ]
  },
  {
   "cell_type": "markdown",
   "metadata": {},
   "source": [
    "### Parameters"
   ]
  },
  {
   "cell_type": "code",
   "execution_count": 4,
   "metadata": {
    "ExecuteTime": {
     "end_time": "2020-09-03T11:52:49.634738Z",
     "start_time": "2020-09-03T11:52:49.622033Z"
    }
   },
   "outputs": [],
   "source": [
    "hemis = ['L', 'R']\n",
    "hemi_names = ['left', 'right']\n",
    "model = 'norm'\n",
    "prf_par_names = ['x', 'y', 'prf_size', 'prf_ampl', 'bold_bsl', 'r2']\n",
    "\n",
    "space = 'fsaverage'\n",
    "subject = 'sub-002'\n",
    "need_yhat = True\n",
    "need_prf = True"
   ]
  },
  {
   "cell_type": "markdown",
   "metadata": {},
   "source": [
    "### Path"
   ]
  },
  {
   "cell_type": "code",
   "execution_count": 5,
   "metadata": {},
   "outputs": [
    {
     "name": "stdout",
     "output_type": "stream",
     "text": [
      "Loading settings from /Users/dionysus/Library/CloudStorage/OneDrive-Personal/Workbench/pRF_expect_pub/pRF_expect_analysis/prf_expect/settings.yml\n"
     ]
    }
   ],
   "source": [
    "settings = io.load_settings()\n",
    "data_dir = Path(settings[\"general\"][\"data_dir\"], \"data\")"
   ]
  },
  {
   "cell_type": "code",
   "execution_count": 6,
   "metadata": {},
   "outputs": [],
   "source": [
    "cwd = os.getcwd()\n",
    "prf_dir = data_dir / \"derivatives\" / \"prf_data\"\n",
    "tc_L = str(prf_dir / subject / \"ses-1\" / \"cut_and_averaged\" / f\"{subject}_ses-1_task-pRF_space-fsaverage_hemi-L_desc-denoised_bold_psc_mean.npy\")\n",
    "tc_R = str(prf_dir / subject / \"ses-1\" / \"cut_and_averaged\" / f\"{subject}_ses-1_task-pRF_space-fsaverage_hemi-R_desc-denoised_bold_psc_mean.npy\")\n",
    "prf_pars_path = str(prf_dir / subject /  \"ses-1\" / \"prf_fits\" / \"prf_params\" / f\"{subject}_ses-1_final-fit_space-fsaverage_model-{model}_stage-iter_desc-prf_params.tsv\")\n",
    "dm_fn = str(prf_dir / subject / \"ses-1\" / \"dms\" / \"dm_task-pRF_run-01.npy\")\n",
    "pred_fn = prf_dir / subject / \"ses-1\" / \"prf_fits\" / \"prf_predictions\" / f\"{subject}_ses-1_task-pRF_final-fit_space-fsaverage_model-{model}_stage-iter_desc-prf_pred.npy\"\n",
    "\n",
    "figure_result_dir = Path(cwd).parent / \"figures\""
   ]
  },
  {
   "cell_type": "code",
   "execution_count": 7,
   "metadata": {},
   "outputs": [],
   "source": [
    "vf_extent = [-5.72, 5.72]\n",
    "nr_vf_pix = 200\n",
    "prf_space_x, prf_space_y = np.meshgrid(np.linspace(vf_extent[0], vf_extent[1], nr_vf_pix, endpoint=True),\n",
    "                                       np.linspace(vf_extent[0], vf_extent[1], nr_vf_pix, endpoint=True))"
   ]
  },
  {
   "cell_type": "markdown",
   "metadata": {},
   "source": [
    "### Load data\n",
    "timecourses, prf parameters, and design matrix."
   ]
  },
  {
   "cell_type": "code",
   "execution_count": 8,
   "metadata": {
    "ExecuteTime": {
     "end_time": "2020-09-03T11:52:52.322871Z",
     "start_time": "2020-09-03T11:52:49.637608Z"
    }
   },
   "outputs": [],
   "source": [
    "# tc data\n",
    "tc_data = np.concatenate([np.load(tc_L).T, np.load(tc_R).T])\n",
    "\n",
    "# prf data\n",
    "if need_prf:\n",
    "    prf_pars_df = pd.read_csv(prf_pars_path, sep='\\t', header=0)\n",
    "\n",
    "# prediction data\n",
    "if need_yhat:\n",
    "    pred_data = np.load(pred_fn)\n",
    "\n",
    "# design matrix\n",
    "\n",
    "design_matrix = np.load(dm_fn)\n",
    "dm_guideline = design_matrix.sum((0,1))\n",
    "# scale dm_guideline to 0-5\n",
    "dm_guideline = 5 * (dm_guideline - dm_guideline.min()) / (dm_guideline.max() - dm_guideline.min())\n",
    "\n",
    "sos = design_matrix.sum((1,2)) != 0"
   ]
  },
  {
   "cell_type": "markdown",
   "metadata": {},
   "source": []
  },
  {
   "cell_type": "code",
   "execution_count": 9,
   "metadata": {},
   "outputs": [
    {
     "name": "stdout",
     "output_type": "stream",
     "text": [
      "[[0 0 0 ... 0 0 0]\n",
      " [0 0 0 ... 0 0 0]\n",
      " [0 0 0 ... 0 0 0]\n",
      " ...\n",
      " [1 1 1 ... 0 0 0]\n",
      " [1 1 1 ... 0 0 0]\n",
      " [1 1 1 ... 0 0 0]]\n",
      "--------------------\n",
      "[[0 0 0 ... 0 0 0]\n",
      " [0 0 0 ... 0 0 0]\n",
      " [0 0 0 ... 0 0 0]\n",
      " ...\n",
      " [1 1 1 ... 1 1 1]\n",
      " [1 1 1 ... 1 1 1]\n",
      " [1 1 1 ... 1 1 1]]\n",
      "--------------------\n",
      "[[0 0 0 ... 0 0 0]\n",
      " [0 0 0 ... 0 0 0]\n",
      " [0 0 0 ... 0 0 0]\n",
      " ...\n",
      " [0 0 0 ... 1 1 1]\n",
      " [0 0 0 ... 1 1 1]\n",
      " [0 0 0 ... 1 1 1]]\n",
      "--------------------\n",
      "[[0 0 0 ... 0 0 0]\n",
      " [0 0 0 ... 0 0 0]\n",
      " [0 0 0 ... 0 0 0]\n",
      " ...\n",
      " [0 0 0 ... 0 0 0]\n",
      " [0 0 0 ... 0 0 0]\n",
      " [0 0 0 ... 0 0 0]]\n",
      "--------------------\n"
     ]
    }
   ],
   "source": [
    "for dm_slice in [design_matrix[:, :, 15], design_matrix[:, :, 35], design_matrix[:, :, 70], design_matrix[:, :, 90]]:\n",
    "    print(dm_slice)\n",
    "    print(\"--------------------\")"
   ]
  },
  {
   "cell_type": "markdown",
   "metadata": {},
   "source": [
    "### Create pycortex vertex objects"
   ]
  },
  {
   "cell_type": "code",
   "execution_count": 10,
   "metadata": {},
   "outputs": [],
   "source": [
    "pscmean_v = cx.Vertex(tc_data.mean(axis=1), subject=space, cmap='hsv')"
   ]
  },
  {
   "cell_type": "code",
   "execution_count": 11,
   "metadata": {},
   "outputs": [
    {
     "data": {
      "text/plain": [
       "Index(['x', 'y', 'prf_size', 'prf_ampl', 'bold_bsl', 'surr_ampl', 'surr_size',\n",
       "       'neur_bsl', 'surr_bsl', 'A', 'B', 'C', 'D', 'ratio (B/D)', 'r2',\n",
       "       'size ratio', 'suppression index', 'ecc', 'polar', 'hrf_deriv',\n",
       "       'hrf_dsip'],\n",
       "      dtype='object')"
      ]
     },
     "execution_count": 11,
     "metadata": {},
     "output_type": "execute_result"
    }
   ],
   "source": [
    "prf_pars_df.keys()"
   ]
  },
  {
   "cell_type": "code",
   "execution_count": 12,
   "metadata": {
    "ExecuteTime": {
     "end_time": "2020-09-03T11:52:59.484912Z",
     "start_time": "2020-09-03T11:52:52.326431Z"
    }
   },
   "outputs": [],
   "source": [
    "\n",
    "angs_n = np.array(prf_pars_df['polar'])\n",
    "eccen = np.array(prf_pars_df['ecc'])\n",
    "rsq = np.array(prf_pars_df['r2'])\n",
    "thresh = 0.15\n",
    "rsq_mask = rsq > thresh\n",
    "prf_size = np.nan_to_num(np.array(prf_pars_df['prf_size']))\n",
    "\n",
    "angs_n[rsq_mask<thresh] = np.nan\n",
    "prf_size[rsq_mask<thresh] = np.nan\n",
    "eccen[rsq_mask<thresh] = np.nan\n",
    "rsq_mask[rsq_mask<thresh] = np.nan\n"
   ]
  },
  {
   "cell_type": "markdown",
   "metadata": {},
   "source": [
    "### Create figures etc"
   ]
  },
  {
   "cell_type": "code",
   "execution_count": 13,
   "metadata": {},
   "outputs": [
    {
     "name": "stdout",
     "output_type": "stream",
     "text": [
      "251134 0.9406203627586364\n"
     ]
    }
   ],
   "source": [
    "# find best voxel (highest r2)\n",
    "best_voxel = np.argmax(rsq)\n",
    "print(best_voxel, rsq[best_voxel])"
   ]
  },
  {
   "cell_type": "code",
   "execution_count": 14,
   "metadata": {},
   "outputs": [],
   "source": [
    "full_figsize = (6, 3)"
   ]
  },
  {
   "cell_type": "code",
   "execution_count": 15,
   "metadata": {},
   "outputs": [],
   "source": [
    "# check which region the best voxel is in\n",
    "rois = ('V1', 'V2', 'V3', 'V3A', 'V3B', 'V4', 'LO1', 'LO2', 'VO1', 'VO2', 'hMT', 'MST', \n",
    "         'IPS0', 'IPS1', 'IPS2', 'IPS3', 'IPS4', 'IPS5')\n",
    "roi_verts = cx.get_roi_verts('fsaverage', rois)\n"
   ]
  },
  {
   "cell_type": "code",
   "execution_count": 16,
   "metadata": {},
   "outputs": [
    {
     "name": "stdout",
     "output_type": "stream",
     "text": [
      "V2\n"
     ]
    }
   ],
   "source": [
    "for roi, verts in roi_verts.items():\n",
    "    if best_voxel in verts:\n",
    "        print(roi)"
   ]
  },
  {
   "cell_type": "code",
   "execution_count": 17,
   "metadata": {},
   "outputs": [
    {
     "data": {
      "image/png": "[encoded data removed]",
      "text/plain": [
       "<Figure size 600x300 with 1 Axes>"
      ]
     },
     "metadata": {},
     "output_type": "display_data"
    },
    {
     "data": {
      "image/png": "[encoded data removed]",
      "text/plain": [
       "<Figure size 300x300 with 1 Axes>"
      ]
     },
     "metadata": {},
     "output_type": "display_data"
    }
   ],
   "source": [
    "%matplotlib inline\n",
    "\n",
    "timecourse_ax = plt.figure(figsize=(6, 3)).add_subplot(111)\n",
    "prf_ax = plt.figure(figsize=(3, 3)).add_subplot(111)\n",
    "\n",
    "def redraw_vertex_plots(vertex, refresh=False):\n",
    "    if refresh:\n",
    "        timecourse_ax.clear()\n",
    "    timecourse_ax.axhline(0, color='black', lw=0.25)\n",
    "    timecourse_ax.plot(pred_data[vertex], color='grey', lw=1)\n",
    "    timecourse_ax.plot(tc_data[vertex], \"o\", markersize=2, color='black')\n",
    "    timecourse_ax.set_xticks(range(0, tc_data.shape[1]+1, 25)) # set major ticks every 5 TRs\n",
    "    timecourse_ax.set_xlim(0, tc_data.shape[1])\n",
    "    timecourse_ax.set_ylim(-2, 6)\n",
    "    timecourse_ax.set_yticks(range(-2, 7, 2))\n",
    "    sns.despine(offset=10, ax=timecourse_ax)\n",
    "    # timecourse_ax.set_xticklabels([])\n",
    "    # timecourse_ax.set_yticklabels([])\n",
    "\n",
    "    if prf_pars_df['prf_ampl'][vertex] != 0:\n",
    "        pass\n",
    "\n",
    "    prf = gauss2D_iso_cart(prf_space_x,\n",
    "                        prf_space_y,\n",
    "                        [prf_pars_df['x'][vertex],\n",
    "                            prf_pars_df['y'][vertex]],\n",
    "                        prf_pars_df['prf_size'][vertex])\n",
    "    prf_ax.clear()\n",
    "    prf_ax.matshow(prf, extent=vf_extent+vf_extent, cmap='cubehelix')\n",
    "    prf_ax.axvline(0, color='white', linestyle='dashed', lw=0.5)\n",
    "    prf_ax.axhline(0, color='white', linestyle='dashed', lw=0.5)\n",
    "    \n",
    "    prf_ax.set_xticks([])\n",
    "    prf_ax.set_yticks([])\n",
    "    # prf_ax.set_title(f\"Vertex index: {vertex}\\n\" + \n",
    "    #                  f\"x: {round(prf_pars_df['x'][vertex], 3)}, y: {round(prf_pars_df['y'][vertex], 3)}\\n\" + \n",
    "    #                  f\"rsq: {round(prf_pars_df['r2'][vertex], 3)}\")\n",
    "\n",
    "def zoom_to_roi(axis, space, roi, hem, margin=10.0):\n",
    "    roi_verts = cx.get_roi_verts(space, roi)[roi]\n",
    "    roi_map = cx.Vertex.empty(space)\n",
    "    roi_map.data[roi_verts] = 1\n",
    "\n",
    "    (lflatpts, lpolys), (rflatpts, rpolys) = cx.db.get_surf(space, \"flat\",\n",
    "                                                            nudge=True)\n",
    "    sel_pts = dict(left=lflatpts, right=rflatpts)[hem]\n",
    "    roi_pts = sel_pts[np.nonzero(getattr(roi_map, hem))[0], :2]\n",
    "\n",
    "    xmin, ymin = roi_pts.min(0) - margin\n",
    "    xmax, ymax = roi_pts.max(0) + margin\n",
    "    print([xmin, xmax, ymin, ymax])\n",
    "    axis.axis([xmin, xmax, ymin, ymax])\n",
    "\n",
    "    return [xmin, xmax, ymin, ymax]\n",
    "\n",
    "# new_bounds  = zoom_to_roi(axis=flatmap_ax, subject=subject,\n",
    "#             roi='V2', hem='left', margin=10.0)\n",
    "\n",
    "# plt.show()\n",
    "# plt.ion()\n",
    "redraw_vertex_plots(best_voxel)\n",
    "plt.draw()\n",
    "plt.show()\n",
    "\n",
    "# save pdf\n",
    "timecourse_ax.get_figure().savefig(figure_result_dir / f\"{subject}_ses-1_task-pRF_space-fsaverage_desc-prf_timecourse.pdf\", dpi=600, bbox_inches='tight')\n",
    "prf_ax.get_figure().savefig(figure_result_dir / f\"{subject}_ses-1_task-pRF_space-fsaverage_desc-prf_gauss2D_iso_cart.pdf\", dpi=600, bbox_inches='tight')\n"
   ]
  },
  {
   "cell_type": "code",
   "execution_count": 18,
   "metadata": {},
   "outputs": [
    {
     "name": "stdout",
     "output_type": "stream",
     "text": [
      "pRFcenter for this voxel: -2.13, 0.56\n",
      "rsq for this voxel: 0.941\n",
      "pRFecc = 2.2°\n",
      "pRFsize = 1.2°\n",
      "pRFangle = 165.1°\n"
     ]
    }
   ],
   "source": [
    "print(f\"pRFcenter for this voxel: {prf_pars_df['x'][best_voxel].round(2)}, {prf_pars_df['y'][best_voxel].round(2)}\")\n",
    "print(f\"rsq for this voxel: {rsq[best_voxel].round(3)}\")\n",
    "\n",
    "print(f\"pRFecc = {eccen[best_voxel].round(1)}°\")\n",
    "print(f\"pRFsize = {prf_size[best_voxel].round(1)}°\")\n",
    "print(f\"pRFangle = {np.degrees(angs_n[best_voxel]).round(1)}°\")\n"
   ]
  }
 ],
 "metadata": {
  "kernelspec": {
   "display_name": "prfexpectpub",
   "language": "python",
   "name": "python3"
  },
  "language_info": {
   "codemirror_mode": {
    "name": "ipython",
    "version": 3
   },
   "file_extension": ".py",
   "mimetype": "text/x-python",
   "name": "python",
   "nbconvert_exporter": "python",
   "pygments_lexer": "ipython3",
   "version": "3.13.7"
  },
  "toc": {
   "base_numbering": 1,
   "nav_menu": {},
   "number_sections": true,
   "sideBar": true,
   "skip_h1_title": false,
   "title_cell": "Table of Contents",
   "title_sidebar": "Contents",
   "toc_cell": true,
   "toc_position": {},
   "toc_section_display": true,
   "toc_window_display": false
  }
 },
 "nbformat": 4,
 "nbformat_minor": 4
}
