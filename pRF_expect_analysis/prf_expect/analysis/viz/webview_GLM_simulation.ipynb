{
 "cells": [
  {
   "cell_type": "code",
   "execution_count": 1,
   "metadata": {},
   "outputs": [],
   "source": [
    "import os, sys\n",
    "from pathlib import Path\n",
    "import cortex\n",
    "import nibabel as nb\n",
    "import numpy as np\n",
    "import matplotlib.colors as colors\n",
    "import matplotlib.pyplot as pl\n",
    "import time\n",
    "import platform\n",
    "import pickle\n",
    "import pandas as pd\n",
    "from matplotlib.colors import Normalize\n",
    "from prf_expect.utils import io"
   ]
  },
  {
   "cell_type": "code",
   "execution_count": 2,
   "metadata": {},
   "outputs": [],
   "source": [
    "subject = \"sub-002\""
   ]
  },
  {
   "cell_type": "code",
   "execution_count": 3,
   "metadata": {},
   "outputs": [
    {
     "name": "stdout",
     "output_type": "stream",
     "text": [
      "Loading settings from /Users/dionysus/Library/CloudStorage/OneDrive-Personal/Workbench/pRF_expect_pub/pRF_expect_analysis/prf_expect/settings.yml\n"
     ]
    }
   ],
   "source": [
    "cwd = os.getcwd()\n",
    "figure_result_dir = Path(cwd).parent / \"figures\"\n",
    "settings = io.load_settings()\n",
    "data_dir = Path(settings['general']['data_dir'], \"data\") / \"derivatives\" / \"prf_data\" / subject / \"ses-1\""
   ]
  },
  {
   "cell_type": "code",
   "execution_count": 4,
   "metadata": {},
   "outputs": [
    {
     "name": "stdout",
     "output_type": "stream",
     "text": [
      "Running on Smoldering-Corpse-Bar.local\n",
      "cortex.database.default_filestore: /Users/dionysus/Documents/pycortex/db\n",
      "cortex.options.usercfg: /Users/dionysus/Library/Application Support/pycortex/options.cfg\n"
     ]
    }
   ],
   "source": [
    "print('Running on {}'.format(platform.node()))\n",
    "print('cortex.database.default_filestore: {}'.format(cortex.database.default_filestore))\n",
    "print('cortex.options.usercfg: {}'.format(cortex.options.usercfg))"
   ]
  },
  {
   "cell_type": "code",
   "execution_count": 5,
   "metadata": {},
   "outputs": [],
   "source": [
    "# polar angle and prf mapping stat maps\n",
    "TRMI_0_fn = os.path.join(data_dir, \"TRMI-type1-simulation-0\", f\"{subject}_ses-1_space-fsaverage_surprise-TRMI.npy\")\n",
    "TRMI_p015_fn = os.path.join(data_dir, \"TRMI-type1-simulation-p015\", f\"{subject}_ses-1_space-fsaverage_surprise-TRMI.npy\")\n",
    "TRMI_p03_fn = os.path.join(data_dir, \"TRMI-type1-simulation-p03\", f\"{subject}_ses-1_space-fsaverage_surprise-TRMI.npy\")\n",
    "TRMI_n015_fn = os.path.join(data_dir, \"TRMI-type1-simulation-n015\", f\"{subject}_ses-1_space-fsaverage_surprise-TRMI.npy\")\n",
    "TRMI_n03_fn = os.path.join(data_dir, \"TRMI-type1-simulation-n03\", f\"{subject}_ses-1_space-fsaverage_surprise-TRMI.npy\")\n",
    "TRMI_0 = np.load(TRMI_0_fn, allow_pickle=True)\n",
    "TRMI_p015 = np.load(TRMI_p015_fn, allow_pickle=True)\n",
    "TRMI_p03 = np.load(TRMI_p03_fn, allow_pickle=True)\n",
    "TRMI_n015 = np.load(TRMI_n015_fn, allow_pickle=True)\n",
    "TRMI_n03 = np.load(TRMI_n03_fn, allow_pickle=True)\n",
    "TRMI_0[np.isnan(TRMI_0)] = 0\n",
    "TRMI_p015[np.isnan(TRMI_p015)] = 0\n",
    "TRMI_p03[np.isnan(TRMI_p03)] = 0\n",
    "TRMI_n015[np.isnan(TRMI_n015)] = 0\n",
    "TRMI_n03[np.isnan(TRMI_n03)] = 0"
   ]
  },
  {
   "cell_type": "code",
   "execution_count": null,
   "metadata": {},
   "outputs": [],
   "source": [
    "static_imgs = False\n",
    "web_view = True"
   ]
  },
  {
   "cell_type": "code",
   "execution_count": 7,
   "metadata": {},
   "outputs": [
    {
     "name": "stdout",
     "output_type": "stream",
     "text": [
      "creating web view\n",
      "Generating new ctm file...\n",
      "wm\n",
      "wm\n",
      "inflated\n",
      "inflated\n",
      "Started server on port 42935\n",
      "Unknown parameter surface.curvature.contrast!\n",
      "Stopping server\n",
      "Generating new ctm file...\n",
      "wm\n",
      "wm\n",
      "inflated\n",
      "inflated\n",
      "Started server on port 10384\n",
      "Unknown parameter surface.curvature.contrast!\n",
      "Stopping server\n",
      "Generating new ctm file...\n",
      "wm\n",
      "wm\n",
      "inflated\n",
      "inflated\n",
      "Started server on port 11652\n",
      "Unknown parameter surface.curvature.contrast!\n",
      "Stopping server\n",
      "Generating new ctm file...\n",
      "wm\n",
      "wm\n",
      "inflated\n",
      "inflated\n",
      "Started server on port 32283\n",
      "Unknown parameter surface.curvature.contrast!\n",
      "Stopping server\n",
      "Generating new ctm file...\n",
      "wm\n",
      "wm\n",
      "inflated\n",
      "inflated\n",
      "Started server on port 50388\n",
      "Unknown parameter surface.curvature.contrast!\n",
      "Stopping server\n"
     ]
    }
   ],
   "source": [
    "cx_TRMI_n015 = cortex.Vertex(TRMI_n015.T, subject=\"fsaverage\", cmap=\"BrBG_r\", vmin=-0.3, vmax=0.3)\n",
    "cx_TRMI_n03 = cortex.Vertex(TRMI_n03.T, subject=\"fsaverage\", cmap=\"BrBG_r\", vmin=-0.3, vmax=0.3)\n",
    "cx_TRMI_0 = cortex.Vertex(TRMI_0.T, subject=\"fsaverage\", cmap=\"BrBG_r\", vmin=-0.3, vmax=0.3)\n",
    "cx_TRMI_p015 = cortex.Vertex(TRMI_p015.T, subject=\"fsaverage\", cmap=\"BrBG_r\", vmin=-0.3, vmax=0.3)\n",
    "cx_TRMI_p03 = cortex.Vertex(TRMI_p03.T, subject=\"fsaverage\", cmap=\"BrBG_r\", vmin=-0.3, vmax=0.3)\n",
    "\n",
    "if web_view:\n",
    "    print(\"creating web view\")\n",
    "    # webview for movies and comparisons\n",
    "    for d, nm, depth in zip([cx_TRMI_n03.raw, cx_TRMI_n015, cx_TRMI_0.raw, cx_TRMI_p015.raw, cx_TRMI_p03.raw, ], \n",
    "                            [\"TRMI_n03\", \"TRMI_n015\", \"TRMI_0\", \"TRMI_p015\", \"TRMI_p03\"],\n",
    "                            [0,0,0,0,0]):\n",
    "        ds = cortex.Dataset(**{nm: d})\n",
    "        handle = cortex.webgl.show(data=ds, recache=True, labels_visible=(), overlays_visible=('rois',))\n",
    "        file_pattern = \"{base}_{view}_{nm}.png\"\n",
    "        time.sleep(20.0)\n",
    "        # projection parameters\n",
    "        basic = dict(\n",
    "            radius=300, depth=depth, specularity=0, unfold=0.5, contrast=0\n",
    "        )  # projection=['orthographic'],\n",
    "        # different views available, more views can be added  and the\n",
    "        # existing list can be removed\n",
    "        views = dict(\n",
    "            myview=dict(altitude=94, azimuth=189, pivot=0),\n",
    "            # lateral=dict(altitude=90.5, azimuth=181, pivot=180),\n",
    "            # medial=dict(altitude=90.5, azimuth=0, pivot=180),\n",
    "            # front=dict(altitude=90.5, azimuth=0, pivot=0),\n",
    "            # back=dict(altitude=90.5, azimuth=181, pivot=0),\n",
    "            # top=dict(altitude=0, azimuth=180, pivot=0),\n",
    "            # bottom=dict(altitude=180, azimuth=0, pivot=0),\n",
    "        )\n",
    "        # utility functions to set the different views\n",
    "        prefix = dict(\n",
    "            altitude=\"camera.\",\n",
    "            azimuth=\"camera.\",\n",
    "            pivot=\"surface.{subject}.\",\n",
    "            radius=\"camera.\",\n",
    "            unfold=\"surface.{subject}.\",\n",
    "            depth=\"surface.{subject}.\",\n",
    "            specularity=\"surface.{subject}.\",\n",
    "            contrast=\"surface.curvature.\",\n",
    "        )\n",
    "        _tolists = lambda p: {prefix[k] + k: [v] for k, v in p.items()}\n",
    "        _combine = lambda a, b: (lambda c: [c, c.update(b)][0])(dict(a))\n",
    "        # Save images by iterating over the different views and surfaces\n",
    "        for view, vparams in views.items():\n",
    "            # Combine basic, view, and surface parameters\n",
    "            params = _combine(basic, vparams)\n",
    "            # Set the view\n",
    "            handle._set_view(**_tolists(params))\n",
    "            # Save image\n",
    "            filename = file_pattern.format(base=subject, view=view, nm=nm)\n",
    "\n",
    "            output_path = os.path.join(\n",
    "                figure_result_dir, filename\n",
    "            )\n",
    "            handle.getImage(output_path, size=(3840, 2160))\n",
    "            # the block below trims the edges of the image:\n",
    "            # wait for image to be written\n",
    "            while not os.path.exists(output_path):\n",
    "                pass\n",
    "            time.sleep(1.5)\n",
    "            # try:\n",
    "            #     import subprocess\n",
    "            #     subprocess.call(['convert', '-trim', output_path, output_path])\n",
    "            # except:\n",
    "            #     pass\n",
    "        # Close the window!\n",
    "        handle.close()"
   ]
  }
 ],
 "metadata": {
  "kernelspec": {
   "display_name": "prfexpectpub",
   "language": "python",
   "name": "python3"
  },
  "language_info": {
   "codemirror_mode": {
    "name": "ipython",
    "version": 3
   },
   "file_extension": ".py",
   "mimetype": "text/x-python",
   "name": "python",
   "nbconvert_exporter": "python",
   "pygments_lexer": "ipython3",
   "version": "3.13.7"
  }
 },
 "nbformat": 4,
 "nbformat_minor": 4
}
