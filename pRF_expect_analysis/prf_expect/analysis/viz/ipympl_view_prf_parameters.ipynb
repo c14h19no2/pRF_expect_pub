{
 "cells": [
  {
   "cell_type": "markdown",
   "metadata": {
    "toc": true
   },
   "source": [
    "<h1>Table of Contents<span class=\"tocSkip\"></span></h1>\n",
    "<div class=\"toc\"><ul class=\"toc-item\"><li><span><a href=\"#Parameters\" data-toc-modified-id=\"Parameters-1\"><span class=\"toc-item-num\">1&nbsp;&nbsp;</span>Parameters</a></span></li><li><span><a href=\"#Load-data\" data-toc-modified-id=\"Load-data-2\"><span class=\"toc-item-num\">2&nbsp;&nbsp;</span>Load data</a></span></li><li><span><a href=\"#Create-pycortex-vertex-objects\" data-toc-modified-id=\"Create-pycortex-vertex-objects-3\"><span class=\"toc-item-num\">3&nbsp;&nbsp;</span>Create pycortex vertex objects</a></span></li><li><span><a href=\"#Create-figures-etc\" data-toc-modified-id=\"Create-figures-etc-4\"><span class=\"toc-item-num\">4&nbsp;&nbsp;</span>Create figures etc</a></span></li></ul></div>"
   ]
  },
  {
   "cell_type": "code",
   "execution_count": null,
   "metadata": {
    "ExecuteTime": {
     "end_time": "2020-09-03T11:52:49.618523Z",
     "start_time": "2020-09-03T11:52:40.698291Z"
    }
   },
   "outputs": [],
   "source": [
    "import cortex as cx\n",
    "import platform\n",
    "from pathlib import Path\n",
    "import json\n",
    "import nilearn.surface as surface\n",
    "import pandas as pd\n",
    "import numpy as np\n",
    "import os, shutil, shlex, subprocess\n",
    "import h5py\n",
    "import matplotlib.pyplot as plt\n",
    "from matplotlib.colors import hsv_to_rgb\n",
    "from matplotlib import cm\n",
    "\n",
    "# needs prfpy for prf spatial plot, and for model predictions at some point\n",
    "from prfpy.rf import gauss2D_iso_cart\n",
    "from prfpy.model import Iso2DGaussianModel\n",
    "\n",
    "from prf_expect.utils import io"
   ]
  },
  {
   "cell_type": "code",
   "execution_count": null,
   "metadata": {},
   "outputs": [],
   "source": [
    "from shutil import which\n",
    "\n",
    "print(which(\"inkscape\"))\n",
    "os.system(\"inkscape --version\")"
   ]
  },
  {
   "cell_type": "code",
   "execution_count": null,
   "metadata": {},
   "outputs": [],
   "source": [
    "print(\"cortex.database.default_filestore: {}\".format(cx.database.default_filestore))\n",
    "print(\"cortex.options.usercfg: {}\".format(cx.options.usercfg))"
   ]
  },
  {
   "cell_type": "markdown",
   "metadata": {},
   "source": [
    "### Parameters"
   ]
  },
  {
   "cell_type": "code",
   "execution_count": null,
   "metadata": {
    "ExecuteTime": {
     "end_time": "2020-09-03T11:52:49.634738Z",
     "start_time": "2020-09-03T11:52:49.622033Z"
    }
   },
   "outputs": [],
   "source": [
    "hemis = [\"L\", \"R\"]\n",
    "hemi_names = [\"left\", \"right\"]\n",
    "model = \"norm\"\n",
    "prf_par_names = [\"x\", \"y\", \"prf_size\", \"prf_ampl\", \"bold_bsl\", \"r2\"]\n",
    "\n",
    "space = \"fsaverage\"\n",
    "subject = \"sub-002\"\n",
    "need_yhat = True\n",
    "need_prf = True"
   ]
  },
  {
   "cell_type": "markdown",
   "metadata": {},
   "source": [
    "### Path"
   ]
  },
  {
   "cell_type": "code",
   "execution_count": null,
   "metadata": {},
   "outputs": [],
   "source": [
    "settings = io.load_settings()\n",
    "prf_viz_dir = (\n",
    "    Path(settings[\"general\"][\"data_dir\"], \"data\")\n",
    "    / \"derivatives\"\n",
    "    / \"prf_data\"\n",
    "    / subject\n",
    "    / \"ses-1\"\n",
    ")\n",
    "\n",
    "tc_L = str(\n",
    "    prf_viz_dir\n",
    "    / \"cut_and_averaged\"\n",
    "    / f\"{subject}_ses-1_task-pRF_space-fsaverage_hemi-L_desc-denoised_bold_psc_mean.npy\"\n",
    ")\n",
    "tc_R = str(\n",
    "    prf_viz_dir\n",
    "    / \"cut_and_averaged\"\n",
    "    / f\"{subject}_ses-1_task-pRF_space-fsaverage_hemi-R_desc-denoised_bold_psc_mean.npy\"\n",
    ")\n",
    "prf_pars_path = str(\n",
    "    prf_viz_dir\n",
    "    / \"prf_fits\"\n",
    "    / \"prf_params\"\n",
    "    / f\"{subject}_ses-1_final-fit_space-fsaverage_model-{model}_stage-iter_desc-prf_params.tsv\"\n",
    ")\n",
    "dm_fn = str(prf_viz_dir / \"dms\" / \"dm_task-pRF_run-01.npy\")\n",
    "pred_fn = (\n",
    "    prf_viz_dir\n",
    "    / \"prf_fits\"\n",
    "    / \"prf_predictions\"\n",
    "    / f\"{subject}_ses-1_task-pRF_final-fit_space-fsaverage_model-{model}_stage-iter_desc-prf_pred.npy\"\n",
    ")"
   ]
  },
  {
   "cell_type": "markdown",
   "metadata": {},
   "source": [
    "### Setup figure"
   ]
  },
  {
   "cell_type": "code",
   "execution_count": null,
   "metadata": {},
   "outputs": [],
   "source": [
    "flatmap_height = 2048\n",
    "full_figsize = (12, 8)"
   ]
  },
  {
   "cell_type": "code",
   "execution_count": null,
   "metadata": {},
   "outputs": [],
   "source": [
    "vf_extent = [-8, 8]\n",
    "nr_vf_pix = 200\n",
    "prf_space_x, prf_space_y = np.meshgrid(\n",
    "    np.linspace(vf_extent[0], vf_extent[1], nr_vf_pix, endpoint=True),\n",
    "    np.linspace(vf_extent[0], vf_extent[1], nr_vf_pix, endpoint=True),\n",
    ")"
   ]
  },
  {
   "cell_type": "markdown",
   "metadata": {},
   "source": [
    "### Load data\n",
    "timecourses, prf parameters, and design matrix."
   ]
  },
  {
   "cell_type": "code",
   "execution_count": null,
   "metadata": {
    "ExecuteTime": {
     "end_time": "2020-09-03T11:52:52.322871Z",
     "start_time": "2020-09-03T11:52:49.637608Z"
    }
   },
   "outputs": [],
   "source": [
    "# tc data\n",
    "tc_data = np.concatenate([np.load(tc_L).T, np.load(tc_R).T])\n",
    "\n",
    "# prf data\n",
    "if need_prf:\n",
    "    prf_pars_df = pd.read_csv(prf_pars_path, sep=\"\\t\", header=0)\n",
    "\n",
    "# prediction data\n",
    "if need_yhat:\n",
    "    pred_data = np.load(pred_fn)\n",
    "\n",
    "# design matrix\n",
    "\n",
    "design_matrix = np.load(dm_fn)\n",
    "dm_guideline = design_matrix.sum((0, 1))\n",
    "# scale dm_guideline to 0-5\n",
    "dm_guideline = (\n",
    "    5 * (dm_guideline - dm_guideline.min()) / (dm_guideline.max() - dm_guideline.min())\n",
    ")\n",
    "\n",
    "sos = design_matrix.sum((1, 2)) != 0"
   ]
  },
  {
   "cell_type": "markdown",
   "metadata": {},
   "source": [
    "### Create pycortex vertex objects"
   ]
  },
  {
   "cell_type": "code",
   "execution_count": null,
   "metadata": {},
   "outputs": [],
   "source": [
    "pscmean_v = cx.Vertex(tc_data.mean(axis=1), subject=space, cmap=\"hsv\")"
   ]
  },
  {
   "cell_type": "code",
   "execution_count": null,
   "metadata": {},
   "outputs": [],
   "source": [
    "prf_pars_df.keys()"
   ]
  },
  {
   "cell_type": "code",
   "execution_count": null,
   "metadata": {
    "ExecuteTime": {
     "end_time": "2020-09-03T11:52:59.484912Z",
     "start_time": "2020-09-03T11:52:52.326431Z"
    }
   },
   "outputs": [],
   "source": [
    "if need_prf:\n",
    "    angs_n = np.array(prf_pars_df[\"polar\"])\n",
    "    eccen = np.array(prf_pars_df[\"ecc\"])\n",
    "    rsq = np.array(prf_pars_df[\"r2\"])\n",
    "    thresh = 0.15\n",
    "    rsq_mask = rsq > thresh\n",
    "    prf_size = np.nan_to_num(np.array(prf_pars_df[\"prf_size\"]))\n",
    "\n",
    "    angs_n[rsq_mask < thresh] = np.nan\n",
    "    prf_size[rsq_mask < thresh] = np.nan\n",
    "    eccen[rsq_mask < thresh] = np.nan\n",
    "    rsq_mask[rsq_mask < thresh] = np.nan\n",
    "\n",
    "    polar_v = cx.Vertex2D(\n",
    "        dim1=angs_n,\n",
    "        dim2=rsq_mask,\n",
    "        subject=space,\n",
    "        cmap=\"Retinotopy_HSV_alpha\",\n",
    "        vmin=-np.pi,\n",
    "        vmax=np.pi,\n",
    "        vmin2=0,\n",
    "        vmax2=0.5,\n",
    "    )\n",
    "    size_v = cx.Vertex2D(\n",
    "        dim1=prf_size,\n",
    "        dim2=rsq_mask,\n",
    "        subject=space,\n",
    "        cmap=\"hot_alpha\",\n",
    "        vmin=0,\n",
    "        vmax=7.0,\n",
    "        vmin2=0,\n",
    "        vmax2=0.5,\n",
    "    )\n",
    "    eccen_v = cx.Vertex2D(\n",
    "        dim1=eccen,\n",
    "        dim2=rsq_mask,\n",
    "        subject=space,\n",
    "        cmap=\"spectral_alpha\",\n",
    "        vmin=0,\n",
    "        vmax=7.0,\n",
    "        vmin2=0,\n",
    "        vmax2=0.5,\n",
    "    )\n",
    "    x_v = cx.Vertex2D(\n",
    "        dim1=np.nan_to_num(prf_pars_df[\"x\"]),\n",
    "        dim2=rsq_mask,\n",
    "        subject=space,\n",
    "        cmap=\"seismic_alpha\",\n",
    "        vmin=-10,\n",
    "        vmax=10.0,\n",
    "        vmin2=0,\n",
    "        vmax2=0.5,\n",
    "    )\n",
    "    y_v = cx.Vertex2D(\n",
    "        dim1=np.nan_to_num(prf_pars_df[\"y\"]),\n",
    "        dim2=rsq_mask,\n",
    "        subject=space,\n",
    "        cmap=\"seismic_alpha\",\n",
    "        vmin=-10,\n",
    "        vmax=10.0,\n",
    "        vmin2=0,\n",
    "        vmax2=0.5,\n",
    "    )\n",
    "\n",
    "###################################################################################################\n",
    "###################################################################################################\n",
    "#######\n",
    "# create pycortex vars\n",
    "#######\n",
    "###################################################################################################\n",
    "###################################################################################################\n",
    "\n",
    "mask, extents = cx.quickflat.utils.get_flatmask(space, height=flatmap_height)\n",
    "vc = cx.quickflat.utils._make_vertex_cache(space, height=flatmap_height)\n",
    "\n",
    "mask_index = np.zeros(mask.shape)\n",
    "mask_index[mask] = np.arange(mask.sum())"
   ]
  },
  {
   "cell_type": "markdown",
   "metadata": {},
   "source": [
    "### Create figures etc"
   ]
  },
  {
   "cell_type": "code",
   "execution_count": null,
   "metadata": {
    "ExecuteTime": {
     "end_time": "2020-09-03T11:53:35.356772Z",
     "start_time": "2020-09-03T11:52:59.486904Z"
    }
   },
   "outputs": [],
   "source": [
    "%matplotlib ipympl\n",
    "full_fig = plt.figure(constrained_layout=True, figsize=full_figsize)\n",
    "gs = full_fig.add_gridspec(3, 3)\n",
    "flatmap_ax = full_fig.add_subplot(gs[:2, :])\n",
    "timecourse_ax = full_fig.add_subplot(gs[2, :2])\n",
    "prf_ax = full_fig.add_subplot(gs[2, 2])\n",
    "\n",
    "flatmap_ax.set_title('flatmap')\n",
    "timecourse_ax.set_title('timecourse')\n",
    "prf_ax.set_title('prf')\n",
    "\n",
    "###################################################################################################\n",
    "###################################################################################################\n",
    "#######\n",
    "# redraw per-vertex data\n",
    "#######\n",
    "###################################################################################################\n",
    "###################################################################################################\n",
    "\n",
    "def redraw_vertex_plots(vertex, refresh):\n",
    "    if refresh:\n",
    "        timecourse_ax.clear()\n",
    "    timecourse_ax.axhline(0, color='black', lw=0.25)\n",
    "    timecourse_ax.plot(tc_data[vertex], \"o\", markersize=5)\n",
    "    if need_yhat:\n",
    "        timecourse_ax.plot(pred_data[vertex])\n",
    "    # timecourse_ax.plot(dm_guideline, color='black', lw=0.5)\n",
    "    # timecourse_ax.plot(sos, alpha=0.125, lw=3, color='gray')\n",
    "    # timecourse_ax.plot(np.roll(sos,5), alpha=0.25, ls=':', lw=3, color='gray')\n",
    "    timecourse_ax.set_xticks(range(0, tc_data.shape[1], 5)) # set major ticks every 5 TRs\n",
    "    timecourse_ax.set_xlim(0, tc_data.shape[1])\n",
    "\n",
    "\n",
    "    if need_prf:\n",
    "        if prf_pars_df['prf_ampl'][vertex] != 0:\n",
    "            # implement plotting of model predictions using the Iso2DGaussianModel class\n",
    "            # at some point\n",
    "            pass\n",
    "\n",
    "        prf = gauss2D_iso_cart(prf_space_x,\n",
    "                            prf_space_y,\n",
    "                            [prf_pars_df['x'][vertex],\n",
    "                                prf_pars_df['y'][vertex]],\n",
    "                            prf_pars_df['prf_size'][vertex])\n",
    "        prf_ax.clear()\n",
    "        prf_ax.matshow(prf, extent=vf_extent+vf_extent, cmap='cubehelix')\n",
    "        prf_ax.axvline(0, color='white', linestyle='dashed', lw=0.5)\n",
    "        prf_ax.axhline(0, color='white', linestyle='dashed', lw=0.5)\n",
    "        prf_ax.set_title(f\"Vertex index: {vertex}\\n\" + \n",
    "                         f\"x: {round(prf_pars_df['x'][vertex], 3)}, y: {round(prf_pars_df['y'][vertex], 3)}\\n\" + \n",
    "                         f\"rsq: {round(prf_pars_df['r2'][vertex], 3)}\")\n",
    "\n",
    "def zoom_to_roi(axis, space, roi, hem, margin=10.0):\n",
    "    roi_verts = cx.get_roi_verts(space, roi)[roi]\n",
    "    roi_map = cx.Vertex.empty(space)\n",
    "    roi_map.data[roi_verts] = 1\n",
    "\n",
    "    (lflatpts, lpolys), (rflatpts, rpolys) = cx.db.get_surf(space, \"flat\",\n",
    "                                                            nudge=True)\n",
    "    sel_pts = dict(left=lflatpts, right=rflatpts)[hem]\n",
    "    roi_pts = sel_pts[np.nonzero(getattr(roi_map, hem))[0], :2]\n",
    "\n",
    "    xmin, ymin = roi_pts.min(0) - margin\n",
    "    xmax, ymax = roi_pts.max(0) + margin\n",
    "    print([xmin, xmax, ymin, ymax])\n",
    "    axis.axis([xmin, xmax, ymin, ymax])\n",
    "\n",
    "    return [xmin, xmax, ymin, ymax]\n",
    "\n",
    "###################################################################################################\n",
    "###################################################################################################\n",
    "#######\n",
    "# actual callback functions\n",
    "#######\n",
    "###################################################################################################\n",
    "###################################################################################################\n",
    "\n",
    "def onclick(event):\n",
    "    if event.inaxes == flatmap_ax:\n",
    "        xmin, xmax = flatmap_ax.get_xbound()\n",
    "        ax_xrange = xmax-xmin\n",
    "        ymin, ymax = flatmap_ax.get_ybound()\n",
    "        ax_yrange = ymax-ymin\n",
    "\n",
    "        rel_x = int(mask.shape[0] * (event.xdata-xmin)/ax_xrange)\n",
    "        rel_y = int(mask.shape[1] * (event.ydata-ymin)/ax_yrange)\n",
    "        clicked_pixel = (rel_x, rel_y)\n",
    "\n",
    "        clicked_vertex = vc[int(\n",
    "            mask_index[clicked_pixel[0], clicked_pixel[1]])]\n",
    "\n",
    "        redraw_vertex_plots(clicked_vertex.indices[0], (event.key == 'shift'))\n",
    "        plt.draw()\n",
    "\n",
    "\n",
    "def onkey(event):\n",
    "    # flatmap_ax.clear()\n",
    "    if event.key == '1':  # polar angle\n",
    "        cx.quickshow(polar_v, with_rois=True, with_curvature=True,\n",
    "                     fig=flatmap_ax, with_colorbar=False)\n",
    "        flatmap_ax.set_title('Polar Angle')\n",
    "    elif event.key == '2':  # eccentricity\n",
    "        cx.quickshow(eccen_v, with_rois=True, with_curvature=True,\n",
    "                     fig=flatmap_ax, with_colorbar=False)\n",
    "        flatmap_ax.set_title('Eccentricity')\n",
    "    elif event.key == '3':  # polar angle\n",
    "        cx.quickshow(size_v, with_rois=True, with_curvature=True,\n",
    "                     fig=flatmap_ax, with_colorbar=False)\n",
    "        flatmap_ax.set_title('pRF Size')\n",
    "    elif event.key == '4':  # polar angle\n",
    "        cx.quickshow(x_v, with_rois=True, with_curvature=True,\n",
    "                     fig=flatmap_ax, with_colorbar=False)\n",
    "        flatmap_ax.set_title('pRF X')\n",
    "    elif event.key == '5':  # polar angle\n",
    "        cx.quickshow(y_v, with_rois=True, with_curvature=True,\n",
    "                     fig=flatmap_ax, with_colorbar=False)\n",
    "        flatmap_ax.set_title('pRF Y')        \n",
    "    plt.draw()\n",
    "    \n",
    "###################################################################################################\n",
    "###################################################################################################\n",
    "#######\n",
    "# start\n",
    "#######\n",
    "###################################################################################################\n",
    "###################################################################################################\n",
    "# start with polar angle.\n",
    "if need_prf:\n",
    "    cx.quickshow(polar_v, with_rois=True, with_curvature=True,\n",
    "                 fig=flatmap_ax, with_colorbar=False)\n",
    "else:\n",
    "    cx.quickshow(pscmean_v, with_rois=True, with_curvature=True,\n",
    "                 fig=flatmap_ax, with_colorbar=False)\n",
    "\n",
    "# new_bounds  = zoom_to_roi(axis=flatmap_ax, subject=subject,\n",
    "#             roi='V2', hem='left', margin=10.0)\n",
    "\n",
    "full_fig.canvas.mpl_connect('button_press_event', onclick)\n",
    "full_fig.canvas.mpl_connect('key_press_event', onkey)\n",
    "# plt.show()\n",
    "# plt.ion()"
   ]
  }
 ],
 "metadata": {
  "kernelspec": {
   "display_name": "prfexpectpub",
   "language": "python",
   "name": "python3"
  },
  "language_info": {
   "codemirror_mode": {
    "name": "ipython",
    "version": 3
   },
   "file_extension": ".py",
   "mimetype": "text/x-python",
   "name": "python",
   "nbconvert_exporter": "python",
   "pygments_lexer": "ipython3",
   "version": "3.13.7"
  },
  "toc": {
   "base_numbering": 1,
   "nav_menu": {},
   "number_sections": true,
   "sideBar": true,
   "skip_h1_title": false,
   "title_cell": "Table of Contents",
   "title_sidebar": "Contents",
   "toc_cell": true,
   "toc_position": {},
   "toc_section_display": true,
   "toc_window_display": false
  }
 },
 "nbformat": 4,
 "nbformat_minor": 4
}
